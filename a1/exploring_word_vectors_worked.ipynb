{
 "cells": [
  {
   "cell_type": "markdown",
   "metadata": {},
   "source": [
    "# CS224N Assignment 1: Exploring Word Vectors (25 Points)\n",
    "\n",
    "Welcome to CS224N! \n",
    "\n",
    "Before you start, make sure you read the README.txt in the same directory as this notebook for important setup information. A lot of code is provided in this notebook, and we highly encourage you to read and understand it as part of the learning :)\n",
    "\n",
    "If you aren't super familiar with Python, Numpy, or Matplotlib, we recommend you check out the review session on Friday. The session will be recorded and the material will be made available on our [website](http://web.stanford.edu/class/cs224n/index.html#schedule). The CS231N Python/Numpy [tutorial](https://cs231n.github.io/python-numpy-tutorial/) is also a great resource.\n",
    "\n",
    "\n",
    "**Assignment Notes:** Please make sure to save the notebook as you go along. Submission Instructions are located at the bottom of the notebook."
   ]
  },
  {
   "cell_type": "code",
   "execution_count": 1,
   "metadata": {},
   "outputs": [
    {
     "data": {
      "application/javascript": [
       "\n",
       "            setTimeout(function() {\n",
       "                var nbb_cell_id = 1;\n",
       "                var nbb_unformatted_code = \"%reload_ext nb_black\";\n",
       "                var nbb_formatted_code = \"%reload_ext nb_black\";\n",
       "                var nbb_cells = Jupyter.notebook.get_cells();\n",
       "                for (var i = 0; i < nbb_cells.length; ++i) {\n",
       "                    if (nbb_cells[i].input_prompt_number == nbb_cell_id) {\n",
       "                        if (nbb_cells[i].get_text() == nbb_unformatted_code) {\n",
       "                             nbb_cells[i].set_text(nbb_formatted_code);\n",
       "                        }\n",
       "                        break;\n",
       "                    }\n",
       "                }\n",
       "            }, 500);\n",
       "            "
      ],
      "text/plain": [
       "<IPython.core.display.Javascript object>"
      ]
     },
     "metadata": {},
     "output_type": "display_data"
    }
   ],
   "source": [
    "%reload_ext nb_black"
   ]
  },
  {
   "cell_type": "code",
   "execution_count": 2,
   "metadata": {},
   "outputs": [
    {
     "name": "stderr",
     "output_type": "stream",
     "text": [
      "[nltk_data] Downloading package reuters to\n",
      "[nltk_data]     /Users/aspannbauer/nltk_data...\n",
      "[nltk_data]   Package reuters is already up-to-date!\n"
     ]
    },
    {
     "data": {
      "application/javascript": [
       "\n",
       "            setTimeout(function() {\n",
       "                var nbb_cell_id = 2;\n",
       "                var nbb_unformatted_code = \"# All Import Statements Defined Here\\n# Note: Do not add to this list.\\n# ----------------\\n\\nimport sys\\n\\nassert sys.version_info[0] == 3\\nassert sys.version_info[1] >= 5\\n\\nimport pprint\\nimport random\\n\\nimport numpy as np\\nimport scipy as sp\\n\\nimport nltk\\n\\nnltk.download(\\\"reuters\\\")\\nfrom nltk.corpus import reuters\\n\\nfrom gensim.models import KeyedVectors\\nfrom gensim.test.utils import datapath\\n\\n#\\nfrom sklearn.decomposition import TruncatedSVD\\nfrom sklearn.decomposition import PCA\\n\\nimport matplotlib.pyplot as plt\\n\\nplt.rcParams[\\\"figure.figsize\\\"] = [10, 5]\\n\\n%matplotlib inline\\n\\nSTART_TOKEN = \\\"<START>\\\"\\nEND_TOKEN = \\\"<END>\\\"\\n\\nnp.random.seed(0)\\nrandom.seed(0)\\n# ----------------\";\n",
       "                var nbb_formatted_code = \"# All Import Statements Defined Here\\n# Note: Do not add to this list.\\n# ----------------\\n\\nimport sys\\n\\nassert sys.version_info[0] == 3\\nassert sys.version_info[1] >= 5\\n\\nimport pprint\\nimport random\\n\\nimport numpy as np\\nimport scipy as sp\\n\\nimport nltk\\n\\nnltk.download(\\\"reuters\\\")\\nfrom nltk.corpus import reuters\\n\\nfrom gensim.models import KeyedVectors\\nfrom gensim.test.utils import datapath\\n\\n#\\nfrom sklearn.decomposition import TruncatedSVD\\nfrom sklearn.decomposition import PCA\\n\\nimport matplotlib.pyplot as plt\\n\\nplt.rcParams[\\\"figure.figsize\\\"] = [10, 5]\\n\\n%matplotlib inline\\n\\nSTART_TOKEN = \\\"<START>\\\"\\nEND_TOKEN = \\\"<END>\\\"\\n\\nnp.random.seed(0)\\nrandom.seed(0)\\n# ----------------\";\n",
       "                var nbb_cells = Jupyter.notebook.get_cells();\n",
       "                for (var i = 0; i < nbb_cells.length; ++i) {\n",
       "                    if (nbb_cells[i].input_prompt_number == nbb_cell_id) {\n",
       "                        if (nbb_cells[i].get_text() == nbb_unformatted_code) {\n",
       "                             nbb_cells[i].set_text(nbb_formatted_code);\n",
       "                        }\n",
       "                        break;\n",
       "                    }\n",
       "                }\n",
       "            }, 500);\n",
       "            "
      ],
      "text/plain": [
       "<IPython.core.display.Javascript object>"
      ]
     },
     "metadata": {},
     "output_type": "display_data"
    }
   ],
   "source": [
    "# All Import Statements Defined Here\n",
    "# Note: Do not add to this list.\n",
    "# ----------------\n",
    "\n",
    "import sys\n",
    "\n",
    "assert sys.version_info[0] == 3\n",
    "assert sys.version_info[1] >= 5\n",
    "\n",
    "import pprint\n",
    "import random\n",
    "\n",
    "import numpy as np\n",
    "import scipy as sp\n",
    "\n",
    "import nltk\n",
    "\n",
    "nltk.download(\"reuters\")\n",
    "from nltk.corpus import reuters\n",
    "\n",
    "from gensim.models import KeyedVectors\n",
    "from gensim.test.utils import datapath\n",
    "\n",
    "#\n",
    "from sklearn.decomposition import TruncatedSVD\n",
    "from sklearn.decomposition import PCA\n",
    "\n",
    "import matplotlib.pyplot as plt\n",
    "\n",
    "plt.rcParams[\"figure.figsize\"] = [10, 5]\n",
    "\n",
    "%matplotlib inline\n",
    "\n",
    "START_TOKEN = \"<START>\"\n",
    "END_TOKEN = \"<END>\"\n",
    "\n",
    "np.random.seed(0)\n",
    "random.seed(0)\n",
    "# ----------------"
   ]
  },
  {
   "cell_type": "markdown",
   "metadata": {},
   "source": [
    "## Word Vectors\n",
    "\n",
    "Word Vectors are often used as a fundamental component for downstream NLP tasks, e.g. question answering, text generation, translation, etc., so it is important to build some intuitions as to their strengths and weaknesses. Here, you will explore two types of word vectors: those derived from *co-occurrence matrices*, and those derived via *GloVe*. \n",
    "\n",
    "**Note on Terminology:** The terms \"word vectors\" and \"word embeddings\" are often used interchangeably. The term \"embedding\" refers to the fact that we are encoding aspects of a word's meaning in a lower dimensional space. As [Wikipedia](https://en.wikipedia.org/wiki/Word_embedding) states, \"*conceptually it involves a mathematical embedding from a space with one dimension per word to a continuous vector space with a much lower dimension*\"."
   ]
  },
  {
   "cell_type": "markdown",
   "metadata": {},
   "source": [
    "## Part 1: Count-Based Word Vectors (10 points)\n",
    "\n",
    "Most word vector models start from the following idea:\n",
    "\n",
    "*You shall know a word by the company it keeps ([Firth, J. R. 1957:11](https://en.wikipedia.org/wiki/John_Rupert_Firth))*\n",
    "\n",
    "Many word vector implementations are driven by the idea that similar words, i.e., (near) synonyms, will be used in similar contexts. As a result, similar words will often be spoken or written along with a shared subset of words, i.e., contexts. By examining these contexts, we can try to develop embeddings for our words. With this intuition in mind, many \"old school\" approaches to constructing word vectors relied on word counts. Here we elaborate upon one of those strategies, *co-occurrence matrices* (for more information, see [here](http://web.stanford.edu/class/cs124/lec/vectorsemantics.video.pdf) or [here](https://medium.com/data-science-group-iitr/word-embedding-2d05d270b285))."
   ]
  },
  {
   "cell_type": "markdown",
   "metadata": {},
   "source": [
    "### Co-Occurrence\n",
    "\n",
    "A co-occurrence matrix counts how often things co-occur in some environment. Given some word $w_i$ occurring in the document, we consider the *context window* surrounding $w_i$. Supposing our fixed window size is $n$, then this is the $n$ preceding and $n$ subsequent words in that document, i.e. words $w_{i-n} \\dots w_{i-1}$ and $w_{i+1} \\dots w_{i+n}$. We build a *co-occurrence matrix* $M$, which is a symmetric word-by-word matrix in which $M_{ij}$ is the number of times $w_j$ appears inside $w_i$'s window among all documents.\n",
    "\n",
    "**Example: Co-Occurrence with Fixed Window of n=1**:\n",
    "\n",
    "Document 1: \"all that glitters is not gold\"\n",
    "\n",
    "Document 2: \"all is well that ends well\"\n",
    "\n",
    "\n",
    "|     *    | `<START>` | all | that | glitters | is   | not  | gold  | well | ends | `<END>` |\n",
    "|----------|-------|-----|------|----------|------|------|-------|------|------|-----|\n",
    "| `<START>`    | 0     | 2   | 0    | 0        | 0    | 0    | 0     | 0    | 0    | 0   |\n",
    "| all      | 2     | 0   | 1    | 0        | 1    | 0    | 0     | 0    | 0    | 0   |\n",
    "| that     | 0     | 1   | 0    | 1        | 0    | 0    | 0     | 1    | 1    | 0   |\n",
    "| glitters | 0     | 0   | 1    | 0        | 1    | 0    | 0     | 0    | 0    | 0   |\n",
    "| is       | 0     | 1   | 0    | 1        | 0    | 1    | 0     | 1    | 0    | 0   |\n",
    "| not      | 0     | 0   | 0    | 0        | 1    | 0    | 1     | 0    | 0    | 0   |\n",
    "| gold     | 0     | 0   | 0    | 0        | 0    | 1    | 0     | 0    | 0    | 1   |\n",
    "| well     | 0     | 0   | 1    | 0        | 1    | 0    | 0     | 0    | 1    | 1   |\n",
    "| ends     | 0     | 0   | 1    | 0        | 0    | 0    | 0     | 1    | 0    | 0   |\n",
    "| `<END>`      | 0     | 0   | 0    | 0        | 0    | 0    | 1     | 1    | 0    | 0   |\n",
    "\n",
    "**Note:** In NLP, we often add `<START>` and `<END>` tokens to represent the beginning and end of sentences, paragraphs or documents. In thise case we imagine `<START>` and `<END>` tokens encapsulating each document, e.g., \"`<START>` All that glitters is not gold `<END>`\", and include these tokens in our co-occurrence counts.\n",
    "\n",
    "The rows (or columns) of this matrix provide one type of word vectors (those based on word-word co-occurrence), but the vectors will be large in general (linear in the number of distinct words in a corpus). Thus, our next step is to run *dimensionality reduction*. In particular, we will run *SVD (Singular Value Decomposition)*, which is a kind of generalized *PCA (Principal Components Analysis)* to select the top $k$ principal components. Here's a visualization of dimensionality reduction with SVD. In this picture our co-occurrence matrix is $A$ with $n$ rows corresponding to $n$ words. We obtain a full matrix decomposition, with the singular values ordered in the diagonal $S$ matrix, and our new, shorter length-$k$ word vectors in $U_k$.\n",
    "\n",
    "![Picture of an SVD](./imgs/svd.png \"SVD\")\n",
    "\n",
    "This reduced-dimensionality co-occurrence representation preserves semantic relationships between words, e.g. *doctor* and *hospital* will be closer than *doctor* and *dog*. \n",
    "\n",
    "**Notes:** If you can barely remember what an eigenvalue is, here's [a slow, friendly introduction to SVD](https://davetang.org/file/Singular_Value_Decomposition_Tutorial.pdf). If you want to learn more thoroughly about PCA or SVD, feel free to check out lectures [7](https://web.stanford.edu/class/cs168/l/l7.pdf), [8](http://theory.stanford.edu/~tim/s15/l/l8.pdf), and [9](https://web.stanford.edu/class/cs168/l/l9.pdf) of CS168. These course notes provide a great high-level treatment of these general purpose algorithms. Though, for the purpose of this class, you only need to know how to extract the k-dimensional embeddings by utilizing pre-programmed implementations of these algorithms from the numpy, scipy, or sklearn python packages. In practice, it is challenging to apply full SVD to large corpora because of the memory needed to perform PCA or SVD. However, if you only want the top $k$ vector components for relatively small $k$ — known as [Truncated SVD](https://en.wikipedia.org/wiki/Singular_value_decomposition#Truncated_SVD) — then there are reasonably scalable techniques to compute those iteratively."
   ]
  },
  {
   "cell_type": "markdown",
   "metadata": {},
   "source": [
    "### Plotting Co-Occurrence Word Embeddings\n",
    "\n",
    "Here, we will be using the Reuters (business and financial news) corpus. If you haven't run the import cell at the top of this page, please run it now (click it and press SHIFT-RETURN). The corpus consists of 10,788 news documents totaling 1.3 million words. These documents span 90 categories and are split into train and test. For more details, please see https://www.nltk.org/book/ch02.html. We provide a `read_corpus` function below that pulls out only articles from the \"crude\" (i.e. news articles about oil, gas, etc.) category. The function also adds `<START>` and `<END>` tokens to each of the documents, and lowercases words. You do **not** have to perform any other kind of pre-processing."
   ]
  },
  {
   "cell_type": "code",
   "execution_count": 3,
   "metadata": {},
   "outputs": [
    {
     "data": {
      "application/javascript": [
       "\n",
       "            setTimeout(function() {\n",
       "                var nbb_cell_id = 3;\n",
       "                var nbb_unformatted_code = \"def read_corpus(category=\\\"crude\\\"):\\n    \\\"\\\"\\\" Read files from the specified Reuter's category.\\n        Params:\\n            category (string): category name\\n        Return:\\n            list of lists, with words from each of the processed files\\n    \\\"\\\"\\\"\\n    files = reuters.fileids(category)\\n    return [[START_TOKEN] + [w.lower() for w in list(reuters.words(f))] + [END_TOKEN] for f in files]\";\n",
       "                var nbb_formatted_code = \"def read_corpus(category=\\\"crude\\\"):\\n    \\\"\\\"\\\" Read files from the specified Reuter's category.\\n        Params:\\n            category (string): category name\\n        Return:\\n            list of lists, with words from each of the processed files\\n    \\\"\\\"\\\"\\n    files = reuters.fileids(category)\\n    return [\\n        [START_TOKEN] + [w.lower() for w in list(reuters.words(f))] + [END_TOKEN]\\n        for f in files\\n    ]\";\n",
       "                var nbb_cells = Jupyter.notebook.get_cells();\n",
       "                for (var i = 0; i < nbb_cells.length; ++i) {\n",
       "                    if (nbb_cells[i].input_prompt_number == nbb_cell_id) {\n",
       "                        if (nbb_cells[i].get_text() == nbb_unformatted_code) {\n",
       "                             nbb_cells[i].set_text(nbb_formatted_code);\n",
       "                        }\n",
       "                        break;\n",
       "                    }\n",
       "                }\n",
       "            }, 500);\n",
       "            "
      ],
      "text/plain": [
       "<IPython.core.display.Javascript object>"
      ]
     },
     "metadata": {},
     "output_type": "display_data"
    }
   ],
   "source": [
    "def read_corpus(category=\"crude\"):\n",
    "    \"\"\" Read files from the specified Reuter's category.\n",
    "        Params:\n",
    "            category (string): category name\n",
    "        Return:\n",
    "            list of lists, with words from each of the processed files\n",
    "    \"\"\"\n",
    "    files = reuters.fileids(category)\n",
    "    return [[START_TOKEN] + [w.lower() for w in list(reuters.words(f))] + [END_TOKEN] for f in files]\n"
   ]
  },
  {
   "cell_type": "markdown",
   "metadata": {},
   "source": [
    "Let's have a look what these documents are like…."
   ]
  },
  {
   "cell_type": "code",
   "execution_count": 4,
   "metadata": {
    "scrolled": false
   },
   "outputs": [
    {
     "name": "stdout",
     "output_type": "stream",
     "text": [
      "[['<START>', 'japan', 'to', 'revise', 'long', '-', 'term', 'energy', 'demand', 'downwards', 'the',\n",
      "  'ministry', 'of', 'international', 'trade', 'and', 'industry', '(', 'miti', ')', 'will', 'revise',\n",
      "  'its', 'long', '-', 'term', 'energy', 'supply', '/', 'demand', 'outlook', 'by', 'august', 'to',\n",
      "  'meet', 'a', 'forecast', 'downtrend', 'in', 'japanese', 'energy', 'demand', ',', 'ministry',\n",
      "  'officials', 'said', '.', 'miti', 'is', 'expected', 'to', 'lower', 'the', 'projection', 'for',\n",
      "  'primary', 'energy', 'supplies', 'in', 'the', 'year', '2000', 'to', '550', 'mln', 'kilolitres',\n",
      "  '(', 'kl', ')', 'from', '600', 'mln', ',', 'they', 'said', '.', 'the', 'decision', 'follows',\n",
      "  'the', 'emergence', 'of', 'structural', 'changes', 'in', 'japanese', 'industry', 'following',\n",
      "  'the', 'rise', 'in', 'the', 'value', 'of', 'the', 'yen', 'and', 'a', 'decline', 'in', 'domestic',\n",
      "  'electric', 'power', 'demand', '.', 'miti', 'is', 'planning', 'to', 'work', 'out', 'a', 'revised',\n",
      "  'energy', 'supply', '/', 'demand', 'outlook', 'through', 'deliberations', 'of', 'committee',\n",
      "  'meetings', 'of', 'the', 'agency', 'of', 'natural', 'resources', 'and', 'energy', ',', 'the',\n",
      "  'officials', 'said', '.', 'they', 'said', 'miti', 'will', 'also', 'review', 'the', 'breakdown',\n",
      "  'of', 'energy', 'supply', 'sources', ',', 'including', 'oil', ',', 'nuclear', ',', 'coal', 'and',\n",
      "  'natural', 'gas', '.', 'nuclear', 'energy', 'provided', 'the', 'bulk', 'of', 'japan', \"'\", 's',\n",
      "  'electric', 'power', 'in', 'the', 'fiscal', 'year', 'ended', 'march', '31', ',', 'supplying',\n",
      "  'an', 'estimated', '27', 'pct', 'on', 'a', 'kilowatt', '/', 'hour', 'basis', ',', 'followed',\n",
      "  'by', 'oil', '(', '23', 'pct', ')', 'and', 'liquefied', 'natural', 'gas', '(', '21', 'pct', '),',\n",
      "  'they', 'noted', '.', '<END>'],\n",
      " ['<START>', 'energy', '/', 'u', '.', 's', '.', 'petrochemical', 'industry', 'cheap', 'oil',\n",
      "  'feedstocks', ',', 'the', 'weakened', 'u', '.', 's', '.', 'dollar', 'and', 'a', 'plant',\n",
      "  'utilization', 'rate', 'approaching', '90', 'pct', 'will', 'propel', 'the', 'streamlined', 'u',\n",
      "  '.', 's', '.', 'petrochemical', 'industry', 'to', 'record', 'profits', 'this', 'year', ',',\n",
      "  'with', 'growth', 'expected', 'through', 'at', 'least', '1990', ',', 'major', 'company',\n",
      "  'executives', 'predicted', '.', 'this', 'bullish', 'outlook', 'for', 'chemical', 'manufacturing',\n",
      "  'and', 'an', 'industrywide', 'move', 'to', 'shed', 'unrelated', 'businesses', 'has', 'prompted',\n",
      "  'gaf', 'corp', '&', 'lt', ';', 'gaf', '>,', 'privately', '-', 'held', 'cain', 'chemical', 'inc',\n",
      "  ',', 'and', 'other', 'firms', 'to', 'aggressively', 'seek', 'acquisitions', 'of', 'petrochemical',\n",
      "  'plants', '.', 'oil', 'companies', 'such', 'as', 'ashland', 'oil', 'inc', '&', 'lt', ';', 'ash',\n",
      "  '>,', 'the', 'kentucky', '-', 'based', 'oil', 'refiner', 'and', 'marketer', ',', 'are', 'also',\n",
      "  'shopping', 'for', 'money', '-', 'making', 'petrochemical', 'businesses', 'to', 'buy', '.', '\"',\n",
      "  'i', 'see', 'us', 'poised', 'at', 'the', 'threshold', 'of', 'a', 'golden', 'period', ',\"', 'said',\n",
      "  'paul', 'oreffice', ',', 'chairman', 'of', 'giant', 'dow', 'chemical', 'co', '&', 'lt', ';',\n",
      "  'dow', '>,', 'adding', ',', '\"', 'there', \"'\", 's', 'no', 'major', 'plant', 'capacity', 'being',\n",
      "  'added', 'around', 'the', 'world', 'now', '.', 'the', 'whole', 'game', 'is', 'bringing', 'out',\n",
      "  'new', 'products', 'and', 'improving', 'the', 'old', 'ones', '.\"', 'analysts', 'say', 'the',\n",
      "  'chemical', 'industry', \"'\", 's', 'biggest', 'customers', ',', 'automobile', 'manufacturers',\n",
      "  'and', 'home', 'builders', 'that', 'use', 'a', 'lot', 'of', 'paints', 'and', 'plastics', ',',\n",
      "  'are', 'expected', 'to', 'buy', 'quantities', 'this', 'year', '.', 'u', '.', 's', '.',\n",
      "  'petrochemical', 'plants', 'are', 'currently', 'operating', 'at', 'about', '90', 'pct',\n",
      "  'capacity', ',', 'reflecting', 'tighter', 'supply', 'that', 'could', 'hike', 'product', 'prices',\n",
      "  'by', '30', 'to', '40', 'pct', 'this', 'year', ',', 'said', 'john', 'dosher', ',', 'managing',\n",
      "  'director', 'of', 'pace', 'consultants', 'inc', 'of', 'houston', '.', 'demand', 'for', 'some',\n",
      "  'products', 'such', 'as', 'styrene', 'could', 'push', 'profit', 'margins', 'up', 'by', 'as',\n",
      "  'much', 'as', '300', 'pct', ',', 'he', 'said', '.', 'oreffice', ',', 'speaking', 'at', 'a',\n",
      "  'meeting', 'of', 'chemical', 'engineers', 'in', 'houston', ',', 'said', 'dow', 'would', 'easily',\n",
      "  'top', 'the', '741', 'mln', 'dlrs', 'it', 'earned', 'last', 'year', 'and', 'predicted', 'it',\n",
      "  'would', 'have', 'the', 'best', 'year', 'in', 'its', 'history', '.', 'in', '1985', ',', 'when',\n",
      "  'oil', 'prices', 'were', 'still', 'above', '25', 'dlrs', 'a', 'barrel', 'and', 'chemical',\n",
      "  'exports', 'were', 'adversely', 'affected', 'by', 'the', 'strong', 'u', '.', 's', '.', 'dollar',\n",
      "  ',', 'dow', 'had', 'profits', 'of', '58', 'mln', 'dlrs', '.', '\"', 'i', 'believe', 'the',\n",
      "  'entire', 'chemical', 'industry', 'is', 'headed', 'for', 'a', 'record', 'year', 'or', 'close',\n",
      "  'to', 'it', ',\"', 'oreffice', 'said', '.', 'gaf', 'chairman', 'samuel', 'heyman', 'estimated',\n",
      "  'that', 'the', 'u', '.', 's', '.', 'chemical', 'industry', 'would', 'report', 'a', '20', 'pct',\n",
      "  'gain', 'in', 'profits', 'during', '1987', '.', 'last', 'year', ',', 'the', 'domestic',\n",
      "  'industry', 'earned', 'a', 'total', 'of', '13', 'billion', 'dlrs', ',', 'a', '54', 'pct', 'leap',\n",
      "  'from', '1985', '.', 'the', 'turn', 'in', 'the', 'fortunes', 'of', 'the', 'once', '-', 'sickly',\n",
      "  'chemical', 'industry', 'has', 'been', 'brought', 'about', 'by', 'a', 'combination', 'of', 'luck',\n",
      "  'and', 'planning', ',', 'said', 'pace', \"'\", 's', 'john', 'dosher', '.', 'dosher', 'said', 'last',\n",
      "  'year', \"'\", 's', 'fall', 'in', 'oil', 'prices', 'made', 'feedstocks', 'dramatically', 'cheaper',\n",
      "  'and', 'at', 'the', 'same', 'time', 'the', 'american', 'dollar', 'was', 'weakening', 'against',\n",
      "  'foreign', 'currencies', '.', 'that', 'helped', 'boost', 'u', '.', 's', '.', 'chemical',\n",
      "  'exports', '.', 'also', 'helping', 'to', 'bring', 'supply', 'and', 'demand', 'into', 'balance',\n",
      "  'has', 'been', 'the', 'gradual', 'market', 'absorption', 'of', 'the', 'extra', 'chemical',\n",
      "  'manufacturing', 'capacity', 'created', 'by', 'middle', 'eastern', 'oil', 'producers', 'in',\n",
      "  'the', 'early', '1980s', '.', 'finally', ',', 'virtually', 'all', 'major', 'u', '.', 's', '.',\n",
      "  'chemical', 'manufacturers', 'have', 'embarked', 'on', 'an', 'extensive', 'corporate',\n",
      "  'restructuring', 'program', 'to', 'mothball', 'inefficient', 'plants', ',', 'trim', 'the',\n",
      "  'payroll', 'and', 'eliminate', 'unrelated', 'businesses', '.', 'the', 'restructuring', 'touched',\n",
      "  'off', 'a', 'flurry', 'of', 'friendly', 'and', 'hostile', 'takeover', 'attempts', '.', 'gaf', ',',\n",
      "  'which', 'made', 'an', 'unsuccessful', 'attempt', 'in', '1985', 'to', 'acquire', 'union',\n",
      "  'carbide', 'corp', '&', 'lt', ';', 'uk', '>,', 'recently', 'offered', 'three', 'billion', 'dlrs',\n",
      "  'for', 'borg', 'warner', 'corp', '&', 'lt', ';', 'bor', '>,', 'a', 'chicago', 'manufacturer',\n",
      "  'of', 'plastics', 'and', 'chemicals', '.', 'another', 'industry', 'powerhouse', ',', 'w', '.',\n",
      "  'r', '.', 'grace', '&', 'lt', ';', 'gra', '>', 'has', 'divested', 'its', 'retailing', ',',\n",
      "  'restaurant', 'and', 'fertilizer', 'businesses', 'to', 'raise', 'cash', 'for', 'chemical',\n",
      "  'acquisitions', '.', 'but', 'some', 'experts', 'worry', 'that', 'the', 'chemical', 'industry',\n",
      "  'may', 'be', 'headed', 'for', 'trouble', 'if', 'companies', 'continue', 'turning', 'their',\n",
      "  'back', 'on', 'the', 'manufacturing', 'of', 'staple', 'petrochemical', 'commodities', ',', 'such',\n",
      "  'as', 'ethylene', ',', 'in', 'favor', 'of', 'more', 'profitable', 'specialty', 'chemicals',\n",
      "  'that', 'are', 'custom', '-', 'designed', 'for', 'a', 'small', 'group', 'of', 'buyers', '.', '\"',\n",
      "  'companies', 'like', 'dupont', '&', 'lt', ';', 'dd', '>', 'and', 'monsanto', 'co', '&', 'lt', ';',\n",
      "  'mtc', '>', 'spent', 'the', 'past', 'two', 'or', 'three', 'years', 'trying', 'to', 'get', 'out',\n",
      "  'of', 'the', 'commodity', 'chemical', 'business', 'in', 'reaction', 'to', 'how', 'badly', 'the',\n",
      "  'market', 'had', 'deteriorated', ',\"', 'dosher', 'said', '.', '\"', 'but', 'i', 'think', 'they',\n",
      "  'will', 'eventually', 'kill', 'the', 'margins', 'on', 'the', 'profitable', 'chemicals', 'in',\n",
      "  'the', 'niche', 'market', '.\"', 'some', 'top', 'chemical', 'executives', 'share', 'the',\n",
      "  'concern', '.', '\"', 'the', 'challenge', 'for', 'our', 'industry', 'is', 'to', 'keep', 'from',\n",
      "  'getting', 'carried', 'away', 'and', 'repeating', 'past', 'mistakes', ',\"', 'gaf', \"'\", 's',\n",
      "  'heyman', 'cautioned', '.', '\"', 'the', 'shift', 'from', 'commodity', 'chemicals', 'may', 'be',\n",
      "  'ill', '-', 'advised', '.', 'specialty', 'businesses', 'do', 'not', 'stay', 'special', 'long',\n",
      "  '.\"', 'houston', '-', 'based', 'cain', 'chemical', ',', 'created', 'this', 'month', 'by', 'the',\n",
      "  'sterling', 'investment', 'banking', 'group', ',', 'believes', 'it', 'can', 'generate', '700',\n",
      "  'mln', 'dlrs', 'in', 'annual', 'sales', 'by', 'bucking', 'the', 'industry', 'trend', '.',\n",
      "  'chairman', 'gordon', 'cain', ',', 'who', 'previously', 'led', 'a', 'leveraged', 'buyout', 'of',\n",
      "  'dupont', \"'\", 's', 'conoco', 'inc', \"'\", 's', 'chemical', 'business', ',', 'has', 'spent', '1',\n",
      "  '.', '1', 'billion', 'dlrs', 'since', 'january', 'to', 'buy', 'seven', 'petrochemical', 'plants',\n",
      "  'along', 'the', 'texas', 'gulf', 'coast', '.', 'the', 'plants', 'produce', 'only', 'basic',\n",
      "  'commodity', 'petrochemicals', 'that', 'are', 'the', 'building', 'blocks', 'of', 'specialty',\n",
      "  'products', '.', '\"', 'this', 'kind', 'of', 'commodity', 'chemical', 'business', 'will', 'never',\n",
      "  'be', 'a', 'glamorous', ',', 'high', '-', 'margin', 'business', ',\"', 'cain', 'said', ',',\n",
      "  'adding', 'that', 'demand', 'is', 'expected', 'to', 'grow', 'by', 'about', 'three', 'pct',\n",
      "  'annually', '.', 'garo', 'armen', ',', 'an', 'analyst', 'with', 'dean', 'witter', 'reynolds', ',',\n",
      "  'said', 'chemical', 'makers', 'have', 'also', 'benefitted', 'by', 'increasing', 'demand', 'for',\n",
      "  'plastics', 'as', 'prices', 'become', 'more', 'competitive', 'with', 'aluminum', ',', 'wood',\n",
      "  'and', 'steel', 'products', '.', 'armen', 'estimated', 'the', 'upturn', 'in', 'the', 'chemical',\n",
      "  'business', 'could', 'last', 'as', 'long', 'as', 'four', 'or', 'five', 'years', ',', 'provided',\n",
      "  'the', 'u', '.', 's', '.', 'economy', 'continues', 'its', 'modest', 'rate', 'of', 'growth', '.',\n",
      "  '<END>'],\n",
      " ['<START>', 'turkey', 'calls', 'for', 'dialogue', 'to', 'solve', 'dispute', 'turkey', 'said',\n",
      "  'today', 'its', 'disputes', 'with', 'greece', ',', 'including', 'rights', 'on', 'the',\n",
      "  'continental', 'shelf', 'in', 'the', 'aegean', 'sea', ',', 'should', 'be', 'solved', 'through',\n",
      "  'negotiations', '.', 'a', 'foreign', 'ministry', 'statement', 'said', 'the', 'latest', 'crisis',\n",
      "  'between', 'the', 'two', 'nato', 'members', 'stemmed', 'from', 'the', 'continental', 'shelf',\n",
      "  'dispute', 'and', 'an', 'agreement', 'on', 'this', 'issue', 'would', 'effect', 'the', 'security',\n",
      "  ',', 'economy', 'and', 'other', 'rights', 'of', 'both', 'countries', '.', '\"', 'as', 'the',\n",
      "  'issue', 'is', 'basicly', 'political', ',', 'a', 'solution', 'can', 'only', 'be', 'found', 'by',\n",
      "  'bilateral', 'negotiations', ',\"', 'the', 'statement', 'said', '.', 'greece', 'has', 'repeatedly',\n",
      "  'said', 'the', 'issue', 'was', 'legal', 'and', 'could', 'be', 'solved', 'at', 'the',\n",
      "  'international', 'court', 'of', 'justice', '.', 'the', 'two', 'countries', 'approached', 'armed',\n",
      "  'confrontation', 'last', 'month', 'after', 'greece', 'announced', 'it', 'planned', 'oil',\n",
      "  'exploration', 'work', 'in', 'the', 'aegean', 'and', 'turkey', 'said', 'it', 'would', 'also',\n",
      "  'search', 'for', 'oil', '.', 'a', 'face', '-', 'off', 'was', 'averted', 'when', 'turkey',\n",
      "  'confined', 'its', 'research', 'to', 'territorrial', 'waters', '.', '\"', 'the', 'latest',\n",
      "  'crises', 'created', 'an', 'historic', 'opportunity', 'to', 'solve', 'the', 'disputes', 'between',\n",
      "  'the', 'two', 'countries', ',\"', 'the', 'foreign', 'ministry', 'statement', 'said', '.', 'turkey',\n",
      "  \"'\", 's', 'ambassador', 'in', 'athens', ',', 'nazmi', 'akiman', ',', 'was', 'due', 'to', 'meet',\n",
      "  'prime', 'minister', 'andreas', 'papandreou', 'today', 'for', 'the', 'greek', 'reply', 'to', 'a',\n",
      "  'message', 'sent', 'last', 'week', 'by', 'turkish', 'prime', 'minister', 'turgut', 'ozal', '.',\n",
      "  'the', 'contents', 'of', 'the', 'message', 'were', 'not', 'disclosed', '.', '<END>']]\n"
     ]
    },
    {
     "data": {
      "application/javascript": [
       "\n",
       "            setTimeout(function() {\n",
       "                var nbb_cell_id = 4;\n",
       "                var nbb_unformatted_code = \"reuters_corpus = read_corpus()\\npprint.pprint(reuters_corpus[:3], compact=True, width=100)\";\n",
       "                var nbb_formatted_code = \"reuters_corpus = read_corpus()\\npprint.pprint(reuters_corpus[:3], compact=True, width=100)\";\n",
       "                var nbb_cells = Jupyter.notebook.get_cells();\n",
       "                for (var i = 0; i < nbb_cells.length; ++i) {\n",
       "                    if (nbb_cells[i].input_prompt_number == nbb_cell_id) {\n",
       "                        if (nbb_cells[i].get_text() == nbb_unformatted_code) {\n",
       "                             nbb_cells[i].set_text(nbb_formatted_code);\n",
       "                        }\n",
       "                        break;\n",
       "                    }\n",
       "                }\n",
       "            }, 500);\n",
       "            "
      ],
      "text/plain": [
       "<IPython.core.display.Javascript object>"
      ]
     },
     "metadata": {},
     "output_type": "display_data"
    }
   ],
   "source": [
    "reuters_corpus = read_corpus()\n",
    "pprint.pprint(reuters_corpus[:3], compact=True, width=100)"
   ]
  },
  {
   "cell_type": "markdown",
   "metadata": {},
   "source": [
    "### Question 1.1: Implement `distinct_words` [code] (2 points)\n",
    "\n",
    "Write a method to work out the distinct words (word types) that occur in the corpus. You can do this with `for` loops, but it's more efficient to do it with Python list comprehensions. In particular, [this](https://coderwall.com/p/rcmaea/flatten-a-list-of-lists-in-one-line-in-python) may be useful to flatten a list of lists. If you're not familiar with Python list comprehensions in general, here's [more information](https://python-3-patterns-idioms-test.readthedocs.io/en/latest/Comprehensions.html).\n",
    "\n",
    "Your returned `corpus_words` should be sorted. You can use python's `sorted` function for this.\n",
    "\n",
    "You may find it useful to use [Python sets](https://www.w3schools.com/python/python_sets.asp) to remove duplicate words."
   ]
  },
  {
   "cell_type": "code",
   "execution_count": 5,
   "metadata": {},
   "outputs": [
    {
     "data": {
      "application/javascript": [
       "\n",
       "            setTimeout(function() {\n",
       "                var nbb_cell_id = 5;\n",
       "                var nbb_unformatted_code = \"def distinct_words(corpus):\\n    \\\"\\\"\\\" Determine a list of distinct words for the corpus.\\n        Params:\\n            corpus (list of list of strings): corpus of documents\\n        Return:\\n            corpus_words (list of strings): sorted list of distinct words across the corpus\\n            num_corpus_words (integer): number of distinct words across the corpus\\n    \\\"\\\"\\\"\\n    corpus_words = set()\\n    num_corpus_words = -1\\n\\n    # ------------------\\n    # Write your implementation here.\\n    for words in corpus:\\n        wordset = set(words)\\n        corpus_words |= wordset\\n\\n    corpus_words = sorted(corpus_words)\\n    num_corpus_words = len(corpus_words)\\n    # ------------------\\n\\n    return corpus_words, num_corpus_words\";\n",
       "                var nbb_formatted_code = \"def distinct_words(corpus):\\n    \\\"\\\"\\\" Determine a list of distinct words for the corpus.\\n        Params:\\n            corpus (list of list of strings): corpus of documents\\n        Return:\\n            corpus_words (list of strings): sorted list of distinct words across the corpus\\n            num_corpus_words (integer): number of distinct words across the corpus\\n    \\\"\\\"\\\"\\n    corpus_words = set()\\n    num_corpus_words = -1\\n\\n    # ------------------\\n    # Write your implementation here.\\n    for words in corpus:\\n        wordset = set(words)\\n        corpus_words |= wordset\\n\\n    corpus_words = sorted(corpus_words)\\n    num_corpus_words = len(corpus_words)\\n    # ------------------\\n\\n    return corpus_words, num_corpus_words\";\n",
       "                var nbb_cells = Jupyter.notebook.get_cells();\n",
       "                for (var i = 0; i < nbb_cells.length; ++i) {\n",
       "                    if (nbb_cells[i].input_prompt_number == nbb_cell_id) {\n",
       "                        if (nbb_cells[i].get_text() == nbb_unformatted_code) {\n",
       "                             nbb_cells[i].set_text(nbb_formatted_code);\n",
       "                        }\n",
       "                        break;\n",
       "                    }\n",
       "                }\n",
       "            }, 500);\n",
       "            "
      ],
      "text/plain": [
       "<IPython.core.display.Javascript object>"
      ]
     },
     "metadata": {},
     "output_type": "display_data"
    }
   ],
   "source": [
    "def distinct_words(corpus):\n",
    "    \"\"\" Determine a list of distinct words for the corpus.\n",
    "        Params:\n",
    "            corpus (list of list of strings): corpus of documents\n",
    "        Return:\n",
    "            corpus_words (list of strings): sorted list of distinct words across the corpus\n",
    "            num_corpus_words (integer): number of distinct words across the corpus\n",
    "    \"\"\"\n",
    "    corpus_words = set()\n",
    "    num_corpus_words = -1\n",
    "\n",
    "    # ------------------\n",
    "    # Write your implementation here.\n",
    "    for words in corpus:\n",
    "        wordset = set(words)\n",
    "        corpus_words |= wordset\n",
    "\n",
    "    corpus_words = sorted(corpus_words)\n",
    "    num_corpus_words = len(corpus_words)\n",
    "    # ------------------\n",
    "\n",
    "    return corpus_words, num_corpus_words"
   ]
  },
  {
   "cell_type": "code",
   "execution_count": 6,
   "metadata": {},
   "outputs": [
    {
     "name": "stdout",
     "output_type": "stream",
     "text": [
      "--------------------------------------------------------------------------------\n",
      "Passed All Tests!\n",
      "--------------------------------------------------------------------------------\n"
     ]
    },
    {
     "data": {
      "application/javascript": [
       "\n",
       "            setTimeout(function() {\n",
       "                var nbb_cell_id = 6;\n",
       "                var nbb_unformatted_code = \"# ---------------------\\n# Run this sanity check\\n# Note that this not an exhaustive check for correctness.\\n# ---------------------\\n\\n# Define toy corpus\\ntest_corpus = [\\n    \\\"{} All that glitters isn't gold {}\\\".format(START_TOKEN, END_TOKEN).split(\\\" \\\"),\\n    \\\"{} All's well that ends well {}\\\".format(START_TOKEN, END_TOKEN).split(\\\" \\\"),\\n]\\ntest_corpus_words, num_corpus_words = distinct_words(test_corpus)\\n\\n# Correct answers\\nans_test_corpus_words = sorted(\\n    [\\n        START_TOKEN,\\n        \\\"All\\\",\\n        \\\"ends\\\",\\n        \\\"that\\\",\\n        \\\"gold\\\",\\n        \\\"All's\\\",\\n        \\\"glitters\\\",\\n        \\\"isn't\\\",\\n        \\\"well\\\",\\n        END_TOKEN,\\n    ]\\n)\\nans_num_corpus_words = len(ans_test_corpus_words)\\n\\n# Test correct number of words\\nassert (\\n    num_corpus_words == ans_num_corpus_words\\n), \\\"Incorrect number of distinct words. Correct: {}. Yours: {}\\\".format(\\n    ans_num_corpus_words, num_corpus_words\\n)\\n\\n# Test correct words\\nassert (\\n    test_corpus_words == ans_test_corpus_words\\n), \\\"Incorrect corpus_words.\\\\nCorrect: {}\\\\nYours:   {}\\\".format(\\n    str(ans_test_corpus_words), str(test_corpus_words)\\n)\\n\\n# Print Success\\nprint(\\\"-\\\" * 80)\\nprint(\\\"Passed All Tests!\\\")\\nprint(\\\"-\\\" * 80)\";\n",
       "                var nbb_formatted_code = \"# ---------------------\\n# Run this sanity check\\n# Note that this not an exhaustive check for correctness.\\n# ---------------------\\n\\n# Define toy corpus\\ntest_corpus = [\\n    \\\"{} All that glitters isn't gold {}\\\".format(START_TOKEN, END_TOKEN).split(\\\" \\\"),\\n    \\\"{} All's well that ends well {}\\\".format(START_TOKEN, END_TOKEN).split(\\\" \\\"),\\n]\\ntest_corpus_words, num_corpus_words = distinct_words(test_corpus)\\n\\n# Correct answers\\nans_test_corpus_words = sorted(\\n    [\\n        START_TOKEN,\\n        \\\"All\\\",\\n        \\\"ends\\\",\\n        \\\"that\\\",\\n        \\\"gold\\\",\\n        \\\"All's\\\",\\n        \\\"glitters\\\",\\n        \\\"isn't\\\",\\n        \\\"well\\\",\\n        END_TOKEN,\\n    ]\\n)\\nans_num_corpus_words = len(ans_test_corpus_words)\\n\\n# Test correct number of words\\nassert (\\n    num_corpus_words == ans_num_corpus_words\\n), \\\"Incorrect number of distinct words. Correct: {}. Yours: {}\\\".format(\\n    ans_num_corpus_words, num_corpus_words\\n)\\n\\n# Test correct words\\nassert (\\n    test_corpus_words == ans_test_corpus_words\\n), \\\"Incorrect corpus_words.\\\\nCorrect: {}\\\\nYours:   {}\\\".format(\\n    str(ans_test_corpus_words), str(test_corpus_words)\\n)\\n\\n# Print Success\\nprint(\\\"-\\\" * 80)\\nprint(\\\"Passed All Tests!\\\")\\nprint(\\\"-\\\" * 80)\";\n",
       "                var nbb_cells = Jupyter.notebook.get_cells();\n",
       "                for (var i = 0; i < nbb_cells.length; ++i) {\n",
       "                    if (nbb_cells[i].input_prompt_number == nbb_cell_id) {\n",
       "                        if (nbb_cells[i].get_text() == nbb_unformatted_code) {\n",
       "                             nbb_cells[i].set_text(nbb_formatted_code);\n",
       "                        }\n",
       "                        break;\n",
       "                    }\n",
       "                }\n",
       "            }, 500);\n",
       "            "
      ],
      "text/plain": [
       "<IPython.core.display.Javascript object>"
      ]
     },
     "metadata": {},
     "output_type": "display_data"
    }
   ],
   "source": [
    "# ---------------------\n",
    "# Run this sanity check\n",
    "# Note that this not an exhaustive check for correctness.\n",
    "# ---------------------\n",
    "\n",
    "# Define toy corpus\n",
    "test_corpus = [\n",
    "    \"{} All that glitters isn't gold {}\".format(START_TOKEN, END_TOKEN).split(\" \"),\n",
    "    \"{} All's well that ends well {}\".format(START_TOKEN, END_TOKEN).split(\" \"),\n",
    "]\n",
    "test_corpus_words, num_corpus_words = distinct_words(test_corpus)\n",
    "\n",
    "# Correct answers\n",
    "ans_test_corpus_words = sorted(\n",
    "    [\n",
    "        START_TOKEN,\n",
    "        \"All\",\n",
    "        \"ends\",\n",
    "        \"that\",\n",
    "        \"gold\",\n",
    "        \"All's\",\n",
    "        \"glitters\",\n",
    "        \"isn't\",\n",
    "        \"well\",\n",
    "        END_TOKEN,\n",
    "    ]\n",
    ")\n",
    "ans_num_corpus_words = len(ans_test_corpus_words)\n",
    "\n",
    "# Test correct number of words\n",
    "assert (\n",
    "    num_corpus_words == ans_num_corpus_words\n",
    "), \"Incorrect number of distinct words. Correct: {}. Yours: {}\".format(\n",
    "    ans_num_corpus_words, num_corpus_words\n",
    ")\n",
    "\n",
    "# Test correct words\n",
    "assert (\n",
    "    test_corpus_words == ans_test_corpus_words\n",
    "), \"Incorrect corpus_words.\\nCorrect: {}\\nYours:   {}\".format(\n",
    "    str(ans_test_corpus_words), str(test_corpus_words)\n",
    ")\n",
    "\n",
    "# Print Success\n",
    "print(\"-\" * 80)\n",
    "print(\"Passed All Tests!\")\n",
    "print(\"-\" * 80)"
   ]
  },
  {
   "cell_type": "markdown",
   "metadata": {},
   "source": [
    "### Question 1.2: Implement `compute_co_occurrence_matrix` [code] (3 points)\n",
    "\n",
    "Write a method that constructs a co-occurrence matrix for a certain window-size $n$ (with a default of 4), considering words $n$ before and $n$ after the word in the center of the window. Here, we start to use `numpy (np)` to represent vectors, matrices, and tensors. If you're not familiar with NumPy, there's a NumPy tutorial in the second half of this cs231n [Python NumPy tutorial](http://cs231n.github.io/python-numpy-tutorial/).\n"
   ]
  },
  {
   "cell_type": "code",
   "execution_count": 7,
   "metadata": {},
   "outputs": [
    {
     "data": {
      "application/javascript": [
       "\n",
       "            setTimeout(function() {\n",
       "                var nbb_cell_id = 7;\n",
       "                var nbb_unformatted_code = \"def compute_co_occurrence_matrix(corpus, window_size=4):\\n    \\\"\\\"\\\" Compute co-occurrence matrix for the given corpus and window_size (default of 4).\\n    \\n        Note: Each word in a document should be at the center of a window. Words near edges will have a smaller\\n              number of co-occurring words.\\n              \\n              For example, if we take the document \\\"<START> All that glitters is not gold <END>\\\" with window size of 4,\\n              \\\"All\\\" will co-occur with \\\"<START>\\\", \\\"that\\\", \\\"glitters\\\", \\\"is\\\", and \\\"not\\\".\\n    \\n        Params:\\n            corpus (list of list of strings): corpus of documents\\n            window_size (int): size of context window\\n        Return:\\n            M (a symmetric numpy matrix of shape (number of unique words in the corpus , number of unique words in the corpus)): \\n                Co-occurence matrix of word counts. \\n                The ordering of the words in the rows/columns should be the same as the ordering of the words given by the distinct_words function.\\n            word2ind (dict): dictionary that maps word to index (i.e. row/column number) for matrix M.\\n    \\\"\\\"\\\"\\n    words, num_words = distinct_words(corpus)\\n    M = None\\n    word2ind = {}\\n\\n    # ------------------\\n    # Write your implementation here.\\n    word2ind = {w: i for i, w in enumerate(words)}\\n    M = np.zeros((num_words, num_words))\\n\\n    for i, word in enumerate(words):\\n        # print(f\\\"Word: {word}\\\")\\n        for doc in corpus:\\n            # print(f\\\"\\\\t doc: {doc}\\\")\\n            if word not in doc:\\n                # print(f\\\"\\\\t\\\\t* {word} not in {doc}\\\\n\\\\n\\\")\\n                continue\\n\\n            for k, token in enumerate(doc):\\n                if token == word:\\n                    # print(f\\\"\\\\t\\\\t* {word} found at position {k}\\\")\\n                    pre_window = doc[max([0, k - window_size]) : k]\\n                    post_window = doc[k + 1 : k + window_size + 1]\\n\\n                    # print(f\\\"\\\\t\\\\t\\\\t* prewindow: {pre_window}\\\")\\n                    # print(f\\\"\\\\t\\\\t\\\\t* postwindow: {post_window}\\\")\\n\\n                    window_words = pre_window + post_window\\n\\n                    for window_word in window_words:\\n                        j = word2ind[window_word]\\n                        if i == j:\\n                            continue\\n\\n                        M[i, j] += 1\\n                        # print(\\n                        #     f\\\"\\\\t\\\\t\\\\t\\\\t* adding 1 to {word} ({i}), {window_word} ({j})\\\"\\n                        # )\\n\\n    return M, word2ind\";\n",
       "                var nbb_formatted_code = \"def compute_co_occurrence_matrix(corpus, window_size=4):\\n    \\\"\\\"\\\" Compute co-occurrence matrix for the given corpus and window_size (default of 4).\\n    \\n        Note: Each word in a document should be at the center of a window. Words near edges will have a smaller\\n              number of co-occurring words.\\n              \\n              For example, if we take the document \\\"<START> All that glitters is not gold <END>\\\" with window size of 4,\\n              \\\"All\\\" will co-occur with \\\"<START>\\\", \\\"that\\\", \\\"glitters\\\", \\\"is\\\", and \\\"not\\\".\\n    \\n        Params:\\n            corpus (list of list of strings): corpus of documents\\n            window_size (int): size of context window\\n        Return:\\n            M (a symmetric numpy matrix of shape (number of unique words in the corpus , number of unique words in the corpus)): \\n                Co-occurence matrix of word counts. \\n                The ordering of the words in the rows/columns should be the same as the ordering of the words given by the distinct_words function.\\n            word2ind (dict): dictionary that maps word to index (i.e. row/column number) for matrix M.\\n    \\\"\\\"\\\"\\n    words, num_words = distinct_words(corpus)\\n    M = None\\n    word2ind = {}\\n\\n    # ------------------\\n    # Write your implementation here.\\n    word2ind = {w: i for i, w in enumerate(words)}\\n    M = np.zeros((num_words, num_words))\\n\\n    for i, word in enumerate(words):\\n        # print(f\\\"Word: {word}\\\")\\n        for doc in corpus:\\n            # print(f\\\"\\\\t doc: {doc}\\\")\\n            if word not in doc:\\n                # print(f\\\"\\\\t\\\\t* {word} not in {doc}\\\\n\\\\n\\\")\\n                continue\\n\\n            for k, token in enumerate(doc):\\n                if token == word:\\n                    # print(f\\\"\\\\t\\\\t* {word} found at position {k}\\\")\\n                    pre_window = doc[max([0, k - window_size]) : k]\\n                    post_window = doc[k + 1 : k + window_size + 1]\\n\\n                    # print(f\\\"\\\\t\\\\t\\\\t* prewindow: {pre_window}\\\")\\n                    # print(f\\\"\\\\t\\\\t\\\\t* postwindow: {post_window}\\\")\\n\\n                    window_words = pre_window + post_window\\n\\n                    for window_word in window_words:\\n                        j = word2ind[window_word]\\n                        if i == j:\\n                            continue\\n\\n                        M[i, j] += 1\\n                        # print(\\n                        #     f\\\"\\\\t\\\\t\\\\t\\\\t* adding 1 to {word} ({i}), {window_word} ({j})\\\"\\n                        # )\\n\\n    return M, word2ind\";\n",
       "                var nbb_cells = Jupyter.notebook.get_cells();\n",
       "                for (var i = 0; i < nbb_cells.length; ++i) {\n",
       "                    if (nbb_cells[i].input_prompt_number == nbb_cell_id) {\n",
       "                        if (nbb_cells[i].get_text() == nbb_unformatted_code) {\n",
       "                             nbb_cells[i].set_text(nbb_formatted_code);\n",
       "                        }\n",
       "                        break;\n",
       "                    }\n",
       "                }\n",
       "            }, 500);\n",
       "            "
      ],
      "text/plain": [
       "<IPython.core.display.Javascript object>"
      ]
     },
     "metadata": {},
     "output_type": "display_data"
    }
   ],
   "source": [
    "def compute_co_occurrence_matrix(corpus, window_size=4):\n",
    "    \"\"\" Compute co-occurrence matrix for the given corpus and window_size (default of 4).\n",
    "    \n",
    "        Note: Each word in a document should be at the center of a window. Words near edges will have a smaller\n",
    "              number of co-occurring words.\n",
    "              \n",
    "              For example, if we take the document \"<START> All that glitters is not gold <END>\" with window size of 4,\n",
    "              \"All\" will co-occur with \"<START>\", \"that\", \"glitters\", \"is\", and \"not\".\n",
    "    \n",
    "        Params:\n",
    "            corpus (list of list of strings): corpus of documents\n",
    "            window_size (int): size of context window\n",
    "        Return:\n",
    "            M (a symmetric numpy matrix of shape (number of unique words in the corpus , number of unique words in the corpus)): \n",
    "                Co-occurence matrix of word counts. \n",
    "                The ordering of the words in the rows/columns should be the same as the ordering of the words given by the distinct_words function.\n",
    "            word2ind (dict): dictionary that maps word to index (i.e. row/column number) for matrix M.\n",
    "    \"\"\"\n",
    "    words, num_words = distinct_words(corpus)\n",
    "    M = None\n",
    "    word2ind = {}\n",
    "\n",
    "    # ------------------\n",
    "    # Write your implementation here.\n",
    "    word2ind = {w: i for i, w in enumerate(words)}\n",
    "    M = np.zeros((num_words, num_words))\n",
    "\n",
    "    for i, word in enumerate(words):\n",
    "        # print(f\"Word: {word}\")\n",
    "        for doc in corpus:\n",
    "            # print(f\"\\t doc: {doc}\")\n",
    "            if word not in doc:\n",
    "                # print(f\"\\t\\t* {word} not in {doc}\\n\\n\")\n",
    "                continue\n",
    "\n",
    "            for k, token in enumerate(doc):\n",
    "                if token == word:\n",
    "                    # print(f\"\\t\\t* {word} found at position {k}\")\n",
    "                    pre_window = doc[max([0, k - window_size]) : k]\n",
    "                    post_window = doc[k + 1 : k + window_size + 1]\n",
    "\n",
    "                    # print(f\"\\t\\t\\t* prewindow: {pre_window}\")\n",
    "                    # print(f\"\\t\\t\\t* postwindow: {post_window}\")\n",
    "\n",
    "                    window_words = pre_window + post_window\n",
    "\n",
    "                    for window_word in window_words:\n",
    "                        j = word2ind[window_word]\n",
    "                        if i == j:\n",
    "                            continue\n",
    "\n",
    "                        M[i, j] += 1\n",
    "                        # print(\n",
    "                        #     f\"\\t\\t\\t\\t* adding 1 to {word} ({i}), {window_word} ({j})\"\n",
    "                        # )\n",
    "\n",
    "    return M, word2ind"
   ]
  },
  {
   "cell_type": "code",
   "execution_count": 8,
   "metadata": {},
   "outputs": [
    {
     "name": "stdout",
     "output_type": "stream",
     "text": [
      "--------------------------------------------------------------------------------\n",
      "Passed All Tests!\n",
      "--------------------------------------------------------------------------------\n"
     ]
    },
    {
     "data": {
      "application/javascript": [
       "\n",
       "            setTimeout(function() {\n",
       "                var nbb_cell_id = 8;\n",
       "                var nbb_unformatted_code = \"# ---------------------\\n# Run this sanity check\\n# Note that this is not an exhaustive check for correctness.\\n# ---------------------\\n\\n# Define toy corpus and get student's co-occurrence matrix\\ntest_corpus = [\\n    \\\"{} All that glitters isn't gold {}\\\".format(START_TOKEN, END_TOKEN).split(\\\" \\\"),\\n    \\\"{} All's well that ends well {}\\\".format(START_TOKEN, END_TOKEN).split(\\\" \\\"),\\n]\\nM_test, word2ind_test = compute_co_occurrence_matrix(test_corpus, window_size=1)\\n\\n# Correct M and word2ind\\nM_test_ans = np.array(\\n    [\\n        [0.0, 0.0, 0.0, 0.0, 0.0, 0.0, 1.0, 0.0, 0.0, 1.0,],\\n        [0.0, 0.0, 1.0, 1.0, 0.0, 0.0, 0.0, 0.0, 0.0, 0.0,],\\n        [0.0, 1.0, 0.0, 0.0, 0.0, 0.0, 0.0, 0.0, 1.0, 0.0,],\\n        [0.0, 1.0, 0.0, 0.0, 0.0, 0.0, 0.0, 0.0, 0.0, 1.0,],\\n        [0.0, 0.0, 0.0, 0.0, 0.0, 0.0, 0.0, 0.0, 1.0, 1.0,],\\n        [0.0, 0.0, 0.0, 0.0, 0.0, 0.0, 0.0, 1.0, 1.0, 0.0,],\\n        [1.0, 0.0, 0.0, 0.0, 0.0, 0.0, 0.0, 1.0, 0.0, 0.0,],\\n        [0.0, 0.0, 0.0, 0.0, 0.0, 1.0, 1.0, 0.0, 0.0, 0.0,],\\n        [0.0, 0.0, 1.0, 0.0, 1.0, 1.0, 0.0, 0.0, 0.0, 1.0,],\\n        [1.0, 0.0, 0.0, 1.0, 1.0, 0.0, 0.0, 0.0, 1.0, 0.0,],\\n    ]\\n)\\nans_test_corpus_words = sorted(\\n    [\\n        START_TOKEN,\\n        \\\"All\\\",\\n        \\\"ends\\\",\\n        \\\"that\\\",\\n        \\\"gold\\\",\\n        \\\"All's\\\",\\n        \\\"glitters\\\",\\n        \\\"isn't\\\",\\n        \\\"well\\\",\\n        END_TOKEN,\\n    ]\\n)\\nword2ind_ans = dict(zip(ans_test_corpus_words, range(len(ans_test_corpus_words))))\\n\\n# Test correct word2ind\\nassert (\\n    word2ind_ans == word2ind_test\\n), \\\"Your word2ind is incorrect:\\\\nCorrect: {}\\\\nYours: {}\\\".format(\\n    word2ind_ans, word2ind_test\\n)\\n\\n# Test correct M shape\\nassert (\\n    M_test.shape == M_test_ans.shape\\n), \\\"M matrix has incorrect shape.\\\\nCorrect: {}\\\\nYours: {}\\\".format(\\n    M_test.shape, M_test_ans.shape\\n)\\n\\n# Test correct M values\\nfor w1 in word2ind_ans.keys():\\n    idx1 = word2ind_ans[w1]\\n    for w2 in word2ind_ans.keys():\\n        idx2 = word2ind_ans[w2]\\n        student = M_test[idx1, idx2]\\n        correct = M_test_ans[idx1, idx2]\\n        if student != correct:\\n            print(\\\"Correct M:\\\")\\n            print(M_test_ans)\\n            print(\\\"Your M: \\\")\\n            print(M_test)\\n            raise AssertionError(\\n                \\\"Incorrect count at index ({}, {})=({}, {}) in matrix M. Yours has {} but should have {}.\\\".format(\\n                    idx1, idx2, w1, w2, student, correct\\n                )\\n            )\\n\\n# Print Success\\nprint(\\\"-\\\" * 80)\\nprint(\\\"Passed All Tests!\\\")\\nprint(\\\"-\\\" * 80)\";\n",
       "                var nbb_formatted_code = \"# ---------------------\\n# Run this sanity check\\n# Note that this is not an exhaustive check for correctness.\\n# ---------------------\\n\\n# Define toy corpus and get student's co-occurrence matrix\\ntest_corpus = [\\n    \\\"{} All that glitters isn't gold {}\\\".format(START_TOKEN, END_TOKEN).split(\\\" \\\"),\\n    \\\"{} All's well that ends well {}\\\".format(START_TOKEN, END_TOKEN).split(\\\" \\\"),\\n]\\nM_test, word2ind_test = compute_co_occurrence_matrix(test_corpus, window_size=1)\\n\\n# Correct M and word2ind\\nM_test_ans = np.array(\\n    [\\n        [0.0, 0.0, 0.0, 0.0, 0.0, 0.0, 1.0, 0.0, 0.0, 1.0,],\\n        [0.0, 0.0, 1.0, 1.0, 0.0, 0.0, 0.0, 0.0, 0.0, 0.0,],\\n        [0.0, 1.0, 0.0, 0.0, 0.0, 0.0, 0.0, 0.0, 1.0, 0.0,],\\n        [0.0, 1.0, 0.0, 0.0, 0.0, 0.0, 0.0, 0.0, 0.0, 1.0,],\\n        [0.0, 0.0, 0.0, 0.0, 0.0, 0.0, 0.0, 0.0, 1.0, 1.0,],\\n        [0.0, 0.0, 0.0, 0.0, 0.0, 0.0, 0.0, 1.0, 1.0, 0.0,],\\n        [1.0, 0.0, 0.0, 0.0, 0.0, 0.0, 0.0, 1.0, 0.0, 0.0,],\\n        [0.0, 0.0, 0.0, 0.0, 0.0, 1.0, 1.0, 0.0, 0.0, 0.0,],\\n        [0.0, 0.0, 1.0, 0.0, 1.0, 1.0, 0.0, 0.0, 0.0, 1.0,],\\n        [1.0, 0.0, 0.0, 1.0, 1.0, 0.0, 0.0, 0.0, 1.0, 0.0,],\\n    ]\\n)\\nans_test_corpus_words = sorted(\\n    [\\n        START_TOKEN,\\n        \\\"All\\\",\\n        \\\"ends\\\",\\n        \\\"that\\\",\\n        \\\"gold\\\",\\n        \\\"All's\\\",\\n        \\\"glitters\\\",\\n        \\\"isn't\\\",\\n        \\\"well\\\",\\n        END_TOKEN,\\n    ]\\n)\\nword2ind_ans = dict(zip(ans_test_corpus_words, range(len(ans_test_corpus_words))))\\n\\n# Test correct word2ind\\nassert (\\n    word2ind_ans == word2ind_test\\n), \\\"Your word2ind is incorrect:\\\\nCorrect: {}\\\\nYours: {}\\\".format(\\n    word2ind_ans, word2ind_test\\n)\\n\\n# Test correct M shape\\nassert (\\n    M_test.shape == M_test_ans.shape\\n), \\\"M matrix has incorrect shape.\\\\nCorrect: {}\\\\nYours: {}\\\".format(\\n    M_test.shape, M_test_ans.shape\\n)\\n\\n# Test correct M values\\nfor w1 in word2ind_ans.keys():\\n    idx1 = word2ind_ans[w1]\\n    for w2 in word2ind_ans.keys():\\n        idx2 = word2ind_ans[w2]\\n        student = M_test[idx1, idx2]\\n        correct = M_test_ans[idx1, idx2]\\n        if student != correct:\\n            print(\\\"Correct M:\\\")\\n            print(M_test_ans)\\n            print(\\\"Your M: \\\")\\n            print(M_test)\\n            raise AssertionError(\\n                \\\"Incorrect count at index ({}, {})=({}, {}) in matrix M. Yours has {} but should have {}.\\\".format(\\n                    idx1, idx2, w1, w2, student, correct\\n                )\\n            )\\n\\n# Print Success\\nprint(\\\"-\\\" * 80)\\nprint(\\\"Passed All Tests!\\\")\\nprint(\\\"-\\\" * 80)\";\n",
       "                var nbb_cells = Jupyter.notebook.get_cells();\n",
       "                for (var i = 0; i < nbb_cells.length; ++i) {\n",
       "                    if (nbb_cells[i].input_prompt_number == nbb_cell_id) {\n",
       "                        if (nbb_cells[i].get_text() == nbb_unformatted_code) {\n",
       "                             nbb_cells[i].set_text(nbb_formatted_code);\n",
       "                        }\n",
       "                        break;\n",
       "                    }\n",
       "                }\n",
       "            }, 500);\n",
       "            "
      ],
      "text/plain": [
       "<IPython.core.display.Javascript object>"
      ]
     },
     "metadata": {},
     "output_type": "display_data"
    }
   ],
   "source": [
    "# ---------------------\n",
    "# Run this sanity check\n",
    "# Note that this is not an exhaustive check for correctness.\n",
    "# ---------------------\n",
    "\n",
    "# Define toy corpus and get student's co-occurrence matrix\n",
    "test_corpus = [\n",
    "    \"{} All that glitters isn't gold {}\".format(START_TOKEN, END_TOKEN).split(\" \"),\n",
    "    \"{} All's well that ends well {}\".format(START_TOKEN, END_TOKEN).split(\" \"),\n",
    "]\n",
    "M_test, word2ind_test = compute_co_occurrence_matrix(test_corpus, window_size=1)\n",
    "\n",
    "# Correct M and word2ind\n",
    "M_test_ans = np.array(\n",
    "    [\n",
    "        [0.0, 0.0, 0.0, 0.0, 0.0, 0.0, 1.0, 0.0, 0.0, 1.0,],\n",
    "        [0.0, 0.0, 1.0, 1.0, 0.0, 0.0, 0.0, 0.0, 0.0, 0.0,],\n",
    "        [0.0, 1.0, 0.0, 0.0, 0.0, 0.0, 0.0, 0.0, 1.0, 0.0,],\n",
    "        [0.0, 1.0, 0.0, 0.0, 0.0, 0.0, 0.0, 0.0, 0.0, 1.0,],\n",
    "        [0.0, 0.0, 0.0, 0.0, 0.0, 0.0, 0.0, 0.0, 1.0, 1.0,],\n",
    "        [0.0, 0.0, 0.0, 0.0, 0.0, 0.0, 0.0, 1.0, 1.0, 0.0,],\n",
    "        [1.0, 0.0, 0.0, 0.0, 0.0, 0.0, 0.0, 1.0, 0.0, 0.0,],\n",
    "        [0.0, 0.0, 0.0, 0.0, 0.0, 1.0, 1.0, 0.0, 0.0, 0.0,],\n",
    "        [0.0, 0.0, 1.0, 0.0, 1.0, 1.0, 0.0, 0.0, 0.0, 1.0,],\n",
    "        [1.0, 0.0, 0.0, 1.0, 1.0, 0.0, 0.0, 0.0, 1.0, 0.0,],\n",
    "    ]\n",
    ")\n",
    "ans_test_corpus_words = sorted(\n",
    "    [\n",
    "        START_TOKEN,\n",
    "        \"All\",\n",
    "        \"ends\",\n",
    "        \"that\",\n",
    "        \"gold\",\n",
    "        \"All's\",\n",
    "        \"glitters\",\n",
    "        \"isn't\",\n",
    "        \"well\",\n",
    "        END_TOKEN,\n",
    "    ]\n",
    ")\n",
    "word2ind_ans = dict(zip(ans_test_corpus_words, range(len(ans_test_corpus_words))))\n",
    "\n",
    "# Test correct word2ind\n",
    "assert (\n",
    "    word2ind_ans == word2ind_test\n",
    "), \"Your word2ind is incorrect:\\nCorrect: {}\\nYours: {}\".format(\n",
    "    word2ind_ans, word2ind_test\n",
    ")\n",
    "\n",
    "# Test correct M shape\n",
    "assert (\n",
    "    M_test.shape == M_test_ans.shape\n",
    "), \"M matrix has incorrect shape.\\nCorrect: {}\\nYours: {}\".format(\n",
    "    M_test.shape, M_test_ans.shape\n",
    ")\n",
    "\n",
    "# Test correct M values\n",
    "for w1 in word2ind_ans.keys():\n",
    "    idx1 = word2ind_ans[w1]\n",
    "    for w2 in word2ind_ans.keys():\n",
    "        idx2 = word2ind_ans[w2]\n",
    "        student = M_test[idx1, idx2]\n",
    "        correct = M_test_ans[idx1, idx2]\n",
    "        if student != correct:\n",
    "            print(\"Correct M:\")\n",
    "            print(M_test_ans)\n",
    "            print(\"Your M: \")\n",
    "            print(M_test)\n",
    "            raise AssertionError(\n",
    "                \"Incorrect count at index ({}, {})=({}, {}) in matrix M. Yours has {} but should have {}.\".format(\n",
    "                    idx1, idx2, w1, w2, student, correct\n",
    "                )\n",
    "            )\n",
    "\n",
    "# Print Success\n",
    "print(\"-\" * 80)\n",
    "print(\"Passed All Tests!\")\n",
    "print(\"-\" * 80)"
   ]
  },
  {
   "cell_type": "markdown",
   "metadata": {},
   "source": [
    "### Question 1.3: Implement `reduce_to_k_dim` [code] (1 point)\n",
    "\n",
    "Construct a method that performs dimensionality reduction on the matrix to produce k-dimensional embeddings. Use SVD to take the top k components and produce a new matrix of k-dimensional embeddings. \n",
    "\n",
    "**Note:** All of numpy, scipy, and scikit-learn (`sklearn`) provide *some* implementation of SVD, but only scipy and sklearn provide an implementation of Truncated SVD, and only sklearn provides an efficient randomized algorithm for calculating large-scale Truncated SVD. So please use [sklearn.decomposition.TruncatedSVD](https://scikit-learn.org/stable/modules/generated/sklearn.decomposition.TruncatedSVD.html)."
   ]
  },
  {
   "cell_type": "code",
   "execution_count": 9,
   "metadata": {},
   "outputs": [
    {
     "data": {
      "application/javascript": [
       "\n",
       "            setTimeout(function() {\n",
       "                var nbb_cell_id = 9;\n",
       "                var nbb_unformatted_code = \"def reduce_to_k_dim(M, k=2):\\n    \\\"\\\"\\\" Reduce a co-occurence count matrix of dimensionality (num_corpus_words, num_corpus_words)\\n        to a matrix of dimensionality (num_corpus_words, k) using the following SVD function from Scikit-Learn:\\n            - http://scikit-learn.org/stable/modules/generated/sklearn.decomposition.TruncatedSVD.html\\n    \\n        Params:\\n            M (numpy matrix of shape (number of unique words in the corpus , number of unique words in the corpus)): co-occurence matrix of word counts\\n            k (int): embedding size of each word after dimension reduction\\n        Return:\\n            M_reduced (numpy matrix of shape (number of corpus words, k)): matrix of k-dimensioal word embeddings.\\n                    In terms of the SVD from math class, this actually returns U * S\\n    \\\"\\\"\\\"\\n    n_iters = 10  # Use this parameter in your call to `TruncatedSVD`\\n    M_reduced = None\\n    print(\\\"Running Truncated SVD over %i words...\\\" % (M.shape[0]))\\n\\n    # ------------------\\n    # Write your implementation here.\\n    svd = TruncatedSVD(k, n_iter=n_iters)\\n    M_reduced = svd.fit_transform(M)\\n    # ------------------\\n\\n    print(\\\"Done.\\\")\\n    return M_reduced\";\n",
       "                var nbb_formatted_code = \"def reduce_to_k_dim(M, k=2):\\n    \\\"\\\"\\\" Reduce a co-occurence count matrix of dimensionality (num_corpus_words, num_corpus_words)\\n        to a matrix of dimensionality (num_corpus_words, k) using the following SVD function from Scikit-Learn:\\n            - http://scikit-learn.org/stable/modules/generated/sklearn.decomposition.TruncatedSVD.html\\n    \\n        Params:\\n            M (numpy matrix of shape (number of unique words in the corpus , number of unique words in the corpus)): co-occurence matrix of word counts\\n            k (int): embedding size of each word after dimension reduction\\n        Return:\\n            M_reduced (numpy matrix of shape (number of corpus words, k)): matrix of k-dimensioal word embeddings.\\n                    In terms of the SVD from math class, this actually returns U * S\\n    \\\"\\\"\\\"\\n    n_iters = 10  # Use this parameter in your call to `TruncatedSVD`\\n    M_reduced = None\\n    print(\\\"Running Truncated SVD over %i words...\\\" % (M.shape[0]))\\n\\n    # ------------------\\n    # Write your implementation here.\\n    svd = TruncatedSVD(k, n_iter=n_iters)\\n    M_reduced = svd.fit_transform(M)\\n    # ------------------\\n\\n    print(\\\"Done.\\\")\\n    return M_reduced\";\n",
       "                var nbb_cells = Jupyter.notebook.get_cells();\n",
       "                for (var i = 0; i < nbb_cells.length; ++i) {\n",
       "                    if (nbb_cells[i].input_prompt_number == nbb_cell_id) {\n",
       "                        if (nbb_cells[i].get_text() == nbb_unformatted_code) {\n",
       "                             nbb_cells[i].set_text(nbb_formatted_code);\n",
       "                        }\n",
       "                        break;\n",
       "                    }\n",
       "                }\n",
       "            }, 500);\n",
       "            "
      ],
      "text/plain": [
       "<IPython.core.display.Javascript object>"
      ]
     },
     "metadata": {},
     "output_type": "display_data"
    }
   ],
   "source": [
    "def reduce_to_k_dim(M, k=2):\n",
    "    \"\"\" Reduce a co-occurence count matrix of dimensionality (num_corpus_words, num_corpus_words)\n",
    "        to a matrix of dimensionality (num_corpus_words, k) using the following SVD function from Scikit-Learn:\n",
    "            - http://scikit-learn.org/stable/modules/generated/sklearn.decomposition.TruncatedSVD.html\n",
    "    \n",
    "        Params:\n",
    "            M (numpy matrix of shape (number of unique words in the corpus , number of unique words in the corpus)): co-occurence matrix of word counts\n",
    "            k (int): embedding size of each word after dimension reduction\n",
    "        Return:\n",
    "            M_reduced (numpy matrix of shape (number of corpus words, k)): matrix of k-dimensioal word embeddings.\n",
    "                    In terms of the SVD from math class, this actually returns U * S\n",
    "    \"\"\"\n",
    "    n_iters = 10  # Use this parameter in your call to `TruncatedSVD`\n",
    "    M_reduced = None\n",
    "    print(\"Running Truncated SVD over %i words...\" % (M.shape[0]))\n",
    "\n",
    "    # ------------------\n",
    "    # Write your implementation here.\n",
    "    svd = TruncatedSVD(k, n_iter=n_iters)\n",
    "    M_reduced = svd.fit_transform(M)\n",
    "    # ------------------\n",
    "\n",
    "    print(\"Done.\")\n",
    "    return M_reduced"
   ]
  },
  {
   "cell_type": "code",
   "execution_count": 10,
   "metadata": {},
   "outputs": [
    {
     "name": "stdout",
     "output_type": "stream",
     "text": [
      "Running Truncated SVD over 10 words...\n",
      "Done.\n",
      "--------------------------------------------------------------------------------\n",
      "Passed All Tests!\n",
      "--------------------------------------------------------------------------------\n"
     ]
    },
    {
     "data": {
      "application/javascript": [
       "\n",
       "            setTimeout(function() {\n",
       "                var nbb_cell_id = 10;\n",
       "                var nbb_unformatted_code = \"# ---------------------\\n# Run this sanity check\\n# Note that this is not an exhaustive check for correctness\\n# In fact we only check that your M_reduced has the right dimensions.\\n# ---------------------\\n\\n# Define toy corpus and run student code\\ntest_corpus = [\\n    \\\"{} All that glitters isn't gold {}\\\".format(START_TOKEN, END_TOKEN).split(\\\" \\\"),\\n    \\\"{} All's well that ends well {}\\\".format(START_TOKEN, END_TOKEN).split(\\\" \\\"),\\n]\\nM_test, word2ind_test = compute_co_occurrence_matrix(test_corpus, window_size=1)\\nM_test_reduced = reduce_to_k_dim(M_test, k=2)\\n\\n# Test proper dimensions\\nassert M_test_reduced.shape[0] == 10, \\\"M_reduced has {} rows; should have {}\\\".format(\\n    M_test_reduced.shape[0], 10\\n)\\nassert M_test_reduced.shape[1] == 2, \\\"M_reduced has {} columns; should have {}\\\".format(\\n    M_test_reduced.shape[1], 2\\n)\\n\\n# Print Success\\nprint(\\\"-\\\" * 80)\\nprint(\\\"Passed All Tests!\\\")\\nprint(\\\"-\\\" * 80)\";\n",
       "                var nbb_formatted_code = \"# ---------------------\\n# Run this sanity check\\n# Note that this is not an exhaustive check for correctness\\n# In fact we only check that your M_reduced has the right dimensions.\\n# ---------------------\\n\\n# Define toy corpus and run student code\\ntest_corpus = [\\n    \\\"{} All that glitters isn't gold {}\\\".format(START_TOKEN, END_TOKEN).split(\\\" \\\"),\\n    \\\"{} All's well that ends well {}\\\".format(START_TOKEN, END_TOKEN).split(\\\" \\\"),\\n]\\nM_test, word2ind_test = compute_co_occurrence_matrix(test_corpus, window_size=1)\\nM_test_reduced = reduce_to_k_dim(M_test, k=2)\\n\\n# Test proper dimensions\\nassert M_test_reduced.shape[0] == 10, \\\"M_reduced has {} rows; should have {}\\\".format(\\n    M_test_reduced.shape[0], 10\\n)\\nassert M_test_reduced.shape[1] == 2, \\\"M_reduced has {} columns; should have {}\\\".format(\\n    M_test_reduced.shape[1], 2\\n)\\n\\n# Print Success\\nprint(\\\"-\\\" * 80)\\nprint(\\\"Passed All Tests!\\\")\\nprint(\\\"-\\\" * 80)\";\n",
       "                var nbb_cells = Jupyter.notebook.get_cells();\n",
       "                for (var i = 0; i < nbb_cells.length; ++i) {\n",
       "                    if (nbb_cells[i].input_prompt_number == nbb_cell_id) {\n",
       "                        if (nbb_cells[i].get_text() == nbb_unformatted_code) {\n",
       "                             nbb_cells[i].set_text(nbb_formatted_code);\n",
       "                        }\n",
       "                        break;\n",
       "                    }\n",
       "                }\n",
       "            }, 500);\n",
       "            "
      ],
      "text/plain": [
       "<IPython.core.display.Javascript object>"
      ]
     },
     "metadata": {},
     "output_type": "display_data"
    }
   ],
   "source": [
    "# ---------------------\n",
    "# Run this sanity check\n",
    "# Note that this is not an exhaustive check for correctness\n",
    "# In fact we only check that your M_reduced has the right dimensions.\n",
    "# ---------------------\n",
    "\n",
    "# Define toy corpus and run student code\n",
    "test_corpus = [\n",
    "    \"{} All that glitters isn't gold {}\".format(START_TOKEN, END_TOKEN).split(\" \"),\n",
    "    \"{} All's well that ends well {}\".format(START_TOKEN, END_TOKEN).split(\" \"),\n",
    "]\n",
    "M_test, word2ind_test = compute_co_occurrence_matrix(test_corpus, window_size=1)\n",
    "M_test_reduced = reduce_to_k_dim(M_test, k=2)\n",
    "\n",
    "# Test proper dimensions\n",
    "assert M_test_reduced.shape[0] == 10, \"M_reduced has {} rows; should have {}\".format(\n",
    "    M_test_reduced.shape[0], 10\n",
    ")\n",
    "assert M_test_reduced.shape[1] == 2, \"M_reduced has {} columns; should have {}\".format(\n",
    "    M_test_reduced.shape[1], 2\n",
    ")\n",
    "\n",
    "# Print Success\n",
    "print(\"-\" * 80)\n",
    "print(\"Passed All Tests!\")\n",
    "print(\"-\" * 80)"
   ]
  },
  {
   "cell_type": "markdown",
   "metadata": {},
   "source": [
    "### Question 1.4: Implement `plot_embeddings` [code] (1 point)\n",
    "\n",
    "Here you will write a function to plot a set of 2D vectors in 2D space. For graphs, we will use Matplotlib (`plt`).\n",
    "\n",
    "For this example, you may find it useful to adapt [this code](http://web.archive.org/web/20190924160434/https://www.pythonmembers.club/2018/05/08/matplotlib-scatter-plot-annotate-set-text-at-label-each-point/). In the future, a good way to make a plot is to look at [the Matplotlib gallery](https://matplotlib.org/gallery/index.html), find a plot that looks somewhat like what you want, and adapt the code they give."
   ]
  },
  {
   "cell_type": "code",
   "execution_count": 11,
   "metadata": {},
   "outputs": [
    {
     "data": {
      "application/javascript": [
       "\n",
       "            setTimeout(function() {\n",
       "                var nbb_cell_id = 11;\n",
       "                var nbb_unformatted_code = \"def plot_embeddings(M_reduced, word2ind, words):\\n    \\\"\\\"\\\" Plot in a scatterplot the embeddings of the words specified in the list \\\"words\\\".\\n        NOTE: do not plot all the words listed in M_reduced / word2ind.\\n        Include a label next to each point.\\n        \\n        Params:\\n            M_reduced (numpy matrix of shape (number of unique words in the corpus , 2)): matrix of 2-dimensioal word embeddings\\n            word2ind (dict): dictionary that maps word to indices for matrix M\\n            words (list of strings): words whose embeddings we want to visualize\\n    \\\"\\\"\\\"\\n\\n    # ------------------\\n    # Write your implementation here.\\n\\n    for word in words:\\n        i = word2ind[word]\\n        x, y = M_reduced[i]\\n\\n        plt.scatter(x, y, c=\\\"blue\\\")\\n        plt.text(x, y, word)\\n\\n    # ------------------\";\n",
       "                var nbb_formatted_code = \"def plot_embeddings(M_reduced, word2ind, words):\\n    \\\"\\\"\\\" Plot in a scatterplot the embeddings of the words specified in the list \\\"words\\\".\\n        NOTE: do not plot all the words listed in M_reduced / word2ind.\\n        Include a label next to each point.\\n        \\n        Params:\\n            M_reduced (numpy matrix of shape (number of unique words in the corpus , 2)): matrix of 2-dimensioal word embeddings\\n            word2ind (dict): dictionary that maps word to indices for matrix M\\n            words (list of strings): words whose embeddings we want to visualize\\n    \\\"\\\"\\\"\\n\\n    # ------------------\\n    # Write your implementation here.\\n\\n    for word in words:\\n        i = word2ind[word]\\n        x, y = M_reduced[i]\\n\\n        plt.scatter(x, y, c=\\\"blue\\\")\\n        plt.text(x, y, word)\\n\\n    # ------------------\";\n",
       "                var nbb_cells = Jupyter.notebook.get_cells();\n",
       "                for (var i = 0; i < nbb_cells.length; ++i) {\n",
       "                    if (nbb_cells[i].input_prompt_number == nbb_cell_id) {\n",
       "                        if (nbb_cells[i].get_text() == nbb_unformatted_code) {\n",
       "                             nbb_cells[i].set_text(nbb_formatted_code);\n",
       "                        }\n",
       "                        break;\n",
       "                    }\n",
       "                }\n",
       "            }, 500);\n",
       "            "
      ],
      "text/plain": [
       "<IPython.core.display.Javascript object>"
      ]
     },
     "metadata": {},
     "output_type": "display_data"
    }
   ],
   "source": [
    "def plot_embeddings(M_reduced, word2ind, words):\n",
    "    \"\"\" Plot in a scatterplot the embeddings of the words specified in the list \"words\".\n",
    "        NOTE: do not plot all the words listed in M_reduced / word2ind.\n",
    "        Include a label next to each point.\n",
    "        \n",
    "        Params:\n",
    "            M_reduced (numpy matrix of shape (number of unique words in the corpus , 2)): matrix of 2-dimensioal word embeddings\n",
    "            word2ind (dict): dictionary that maps word to indices for matrix M\n",
    "            words (list of strings): words whose embeddings we want to visualize\n",
    "    \"\"\"\n",
    "\n",
    "    # ------------------\n",
    "    # Write your implementation here.\n",
    "\n",
    "    for word in words:\n",
    "        i = word2ind[word]\n",
    "        x, y = M_reduced[i]\n",
    "\n",
    "        plt.scatter(x, y, c=\"blue\")\n",
    "        plt.text(x, y, word)\n",
    "\n",
    "    # ------------------"
   ]
  },
  {
   "cell_type": "code",
   "execution_count": 12,
   "metadata": {},
   "outputs": [
    {
     "name": "stdout",
     "output_type": "stream",
     "text": [
      "--------------------------------------------------------------------------------\n",
      "Outputted Plot:\n",
      "--------------------------------------------------------------------------------\n"
     ]
    },
    {
     "data": {
      "image/png": "[encoded data removed]",
      "text/plain": [
       "<Figure size 432x288 with 1 Axes>"
      ]
     },
     "metadata": {
      "needs_background": "light"
     },
     "output_type": "display_data"
    },
    {
     "data": {
      "application/javascript": [
       "\n",
       "            setTimeout(function() {\n",
       "                var nbb_cell_id = 12;\n",
       "                var nbb_unformatted_code = \"# ---------------------\\n# Run this sanity check\\n# Note that this is not an exhaustive check for correctness.\\n# The plot produced should look like the \\\"test solution plot\\\" depicted below.\\n# ---------------------\\n\\nprint(\\\"-\\\" * 80)\\nprint(\\\"Outputted Plot:\\\")\\n\\nM_reduced_plot_test = np.array([[1, 1], [-1, -1], [1, -1], [-1, 1], [0, 0]])\\nword2ind_plot_test = {\\\"test1\\\": 0, \\\"test2\\\": 1, \\\"test3\\\": 2, \\\"test4\\\": 3, \\\"test5\\\": 4}\\nwords = [\\\"test1\\\", \\\"test2\\\", \\\"test3\\\", \\\"test4\\\", \\\"test5\\\"]\\nplot_embeddings(M_reduced_plot_test, word2ind_plot_test, words)\\n\\nprint(\\\"-\\\" * 80)\";\n",
       "                var nbb_formatted_code = \"# ---------------------\\n# Run this sanity check\\n# Note that this is not an exhaustive check for correctness.\\n# The plot produced should look like the \\\"test solution plot\\\" depicted below.\\n# ---------------------\\n\\nprint(\\\"-\\\" * 80)\\nprint(\\\"Outputted Plot:\\\")\\n\\nM_reduced_plot_test = np.array([[1, 1], [-1, -1], [1, -1], [-1, 1], [0, 0]])\\nword2ind_plot_test = {\\\"test1\\\": 0, \\\"test2\\\": 1, \\\"test3\\\": 2, \\\"test4\\\": 3, \\\"test5\\\": 4}\\nwords = [\\\"test1\\\", \\\"test2\\\", \\\"test3\\\", \\\"test4\\\", \\\"test5\\\"]\\nplot_embeddings(M_reduced_plot_test, word2ind_plot_test, words)\\n\\nprint(\\\"-\\\" * 80)\";\n",
       "                var nbb_cells = Jupyter.notebook.get_cells();\n",
       "                for (var i = 0; i < nbb_cells.length; ++i) {\n",
       "                    if (nbb_cells[i].input_prompt_number == nbb_cell_id) {\n",
       "                        if (nbb_cells[i].get_text() == nbb_unformatted_code) {\n",
       "                             nbb_cells[i].set_text(nbb_formatted_code);\n",
       "                        }\n",
       "                        break;\n",
       "                    }\n",
       "                }\n",
       "            }, 500);\n",
       "            "
      ],
      "text/plain": [
       "<IPython.core.display.Javascript object>"
      ]
     },
     "metadata": {},
     "output_type": "display_data"
    }
   ],
   "source": [
    "# ---------------------\n",
    "# Run this sanity check\n",
    "# Note that this is not an exhaustive check for correctness.\n",
    "# The plot produced should look like the \"test solution plot\" depicted below.\n",
    "# ---------------------\n",
    "\n",
    "print(\"-\" * 80)\n",
    "print(\"Outputted Plot:\")\n",
    "\n",
    "M_reduced_plot_test = np.array([[1, 1], [-1, -1], [1, -1], [-1, 1], [0, 0]])\n",
    "word2ind_plot_test = {\"test1\": 0, \"test2\": 1, \"test3\": 2, \"test4\": 3, \"test5\": 4}\n",
    "words = [\"test1\", \"test2\", \"test3\", \"test4\", \"test5\"]\n",
    "plot_embeddings(M_reduced_plot_test, word2ind_plot_test, words)\n",
    "\n",
    "print(\"-\" * 80)"
   ]
  },
  {
   "cell_type": "markdown",
   "metadata": {},
   "source": [
    "<font color=red>**Test Plot Solution**</font>\n",
    "<br>\n",
    "<img src=\"./imgs/test_plot.png\" width=40% style=\"float: left;\"> </img>\n"
   ]
  },
  {
   "cell_type": "markdown",
   "metadata": {},
   "source": [
    "### Question 1.5: Co-Occurrence Plot Analysis [written] (3 points)\n",
    "\n",
    "Now we will put together all the parts you have written! We will compute the co-occurrence matrix with fixed window of 4 (the default window size), over the Reuters \"crude\" (oil) corpus. Then we will use TruncatedSVD to compute 2-dimensional embeddings of each word. TruncatedSVD returns U\\*S, so we need to normalize the returned vectors, so that all the vectors will appear around the unit circle (therefore closeness is directional closeness). **Note**: The line of code below that does the normalizing uses the NumPy concept of *broadcasting*. If you don't know about broadcasting, check out\n",
    "[Computation on Arrays: Broadcasting by Jake VanderPlas](https://jakevdp.github.io/PythonDataScienceHandbook/02.05-computation-on-arrays-broadcasting.html).\n",
    "\n",
    "Run the below cell to produce the plot. It'll probably take a few seconds to run. What clusters together in 2-dimensional embedding space? What doesn't cluster together that you might think should have?  **Note:** \"bpd\" stands for \"barrels per day\" and is a commonly used abbreviation in crude oil topic articles."
   ]
  },
  {
   "cell_type": "code",
   "execution_count": 13,
   "metadata": {},
   "outputs": [
    {
     "name": "stdout",
     "output_type": "stream",
     "text": [
      "Running Truncated SVD over 8185 words...\n",
      "Done.\n"
     ]
    },
    {
     "data": {
      "image/png": "[encoded data removed]",
      "text/plain": [
       "<Figure size 432x288 with 1 Axes>"
      ]
     },
     "metadata": {
      "needs_background": "light"
     },
     "output_type": "display_data"
    },
    {
     "data": {
      "application/javascript": [
       "\n",
       "            setTimeout(function() {\n",
       "                var nbb_cell_id = 13;\n",
       "                var nbb_unformatted_code = \"# -----------------------------\\n# Run This Cell to Produce Your Plot\\n# ------------------------------\\nreuters_corpus = read_corpus()\\nM_co_occurrence, word2ind_co_occurrence = compute_co_occurrence_matrix(reuters_corpus)\\nM_reduced_co_occurrence = reduce_to_k_dim(M_co_occurrence, k=2)\\n\\n# Rescale (normalize) the rows to make them each of unit-length\\nM_lengths = np.linalg.norm(M_reduced_co_occurrence, axis=1)\\nM_normalized = M_reduced_co_occurrence / M_lengths[:, np.newaxis]  # broadcasting\\n\\nwords = [\\n    \\\"barrels\\\",\\n    \\\"bpd\\\",\\n    \\\"ecuador\\\",\\n    \\\"energy\\\",\\n    \\\"industry\\\",\\n    \\\"kuwait\\\",\\n    \\\"oil\\\",\\n    \\\"output\\\",\\n    \\\"petroleum\\\",\\n    \\\"iraq\\\",\\n]\\n\\nplot_embeddings(M_normalized, word2ind_co_occurrence, words)\";\n",
       "                var nbb_formatted_code = \"# -----------------------------\\n# Run This Cell to Produce Your Plot\\n# ------------------------------\\nreuters_corpus = read_corpus()\\nM_co_occurrence, word2ind_co_occurrence = compute_co_occurrence_matrix(reuters_corpus)\\nM_reduced_co_occurrence = reduce_to_k_dim(M_co_occurrence, k=2)\\n\\n# Rescale (normalize) the rows to make them each of unit-length\\nM_lengths = np.linalg.norm(M_reduced_co_occurrence, axis=1)\\nM_normalized = M_reduced_co_occurrence / M_lengths[:, np.newaxis]  # broadcasting\\n\\nwords = [\\n    \\\"barrels\\\",\\n    \\\"bpd\\\",\\n    \\\"ecuador\\\",\\n    \\\"energy\\\",\\n    \\\"industry\\\",\\n    \\\"kuwait\\\",\\n    \\\"oil\\\",\\n    \\\"output\\\",\\n    \\\"petroleum\\\",\\n    \\\"iraq\\\",\\n]\\n\\nplot_embeddings(M_normalized, word2ind_co_occurrence, words)\";\n",
       "                var nbb_cells = Jupyter.notebook.get_cells();\n",
       "                for (var i = 0; i < nbb_cells.length; ++i) {\n",
       "                    if (nbb_cells[i].input_prompt_number == nbb_cell_id) {\n",
       "                        if (nbb_cells[i].get_text() == nbb_unformatted_code) {\n",
       "                             nbb_cells[i].set_text(nbb_formatted_code);\n",
       "                        }\n",
       "                        break;\n",
       "                    }\n",
       "                }\n",
       "            }, 500);\n",
       "            "
      ],
      "text/plain": [
       "<IPython.core.display.Javascript object>"
      ]
     },
     "metadata": {},
     "output_type": "display_data"
    }
   ],
   "source": [
    "# -----------------------------\n",
    "# Run This Cell to Produce Your Plot\n",
    "# ------------------------------\n",
    "reuters_corpus = read_corpus()\n",
    "M_co_occurrence, word2ind_co_occurrence = compute_co_occurrence_matrix(reuters_corpus)\n",
    "M_reduced_co_occurrence = reduce_to_k_dim(M_co_occurrence, k=2)\n",
    "\n",
    "# Rescale (normalize) the rows to make them each of unit-length\n",
    "M_lengths = np.linalg.norm(M_reduced_co_occurrence, axis=1)\n",
    "M_normalized = M_reduced_co_occurrence / M_lengths[:, np.newaxis]  # broadcasting\n",
    "\n",
    "words = [\n",
    "    \"barrels\",\n",
    "    \"bpd\",\n",
    "    \"ecuador\",\n",
    "    \"energy\",\n",
    "    \"industry\",\n",
    "    \"kuwait\",\n",
    "    \"oil\",\n",
    "    \"output\",\n",
    "    \"petroleum\",\n",
    "    \"iraq\",\n",
    "]\n",
    "\n",
    "plot_embeddings(M_normalized, word2ind_co_occurrence, words)"
   ]
  },
  {
   "cell_type": "markdown",
   "metadata": {},
   "source": [
    "#### <font color=\"red\">Write your answer here.</font>\n",
    "\n",
    "Groupings visible. Countries are tightest knit group."
   ]
  },
  {
   "cell_type": "markdown",
   "metadata": {},
   "source": [
    "## Part 2: Prediction-Based Word Vectors (15 points)\n",
    "\n",
    "As discussed in class, more recently prediction-based word vectors have demonstrated better performance, such as word2vec and GloVe (which also utilizes the benefit of counts). Here, we shall explore the embeddings produced by GloVe. Please revisit the class notes and lecture slides for more details on the word2vec and GloVe algorithms. If you're feeling adventurous, challenge yourself and try reading [GloVe's original paper](https://nlp.stanford.edu/pubs/glove.pdf).\n",
    "\n",
    "Then run the following cells to load the GloVe vectors into memory. **Note**: If this is your first time to run these cells, i.e. download the embedding model, it will take a couple minutes to run. If you've run these cells before, rerunning them will load the model without redownloading it, which will take about 1 to 2 minutes."
   ]
  },
  {
   "cell_type": "code",
   "execution_count": 14,
   "metadata": {},
   "outputs": [
    {
     "data": {
      "application/javascript": [
       "\n",
       "            setTimeout(function() {\n",
       "                var nbb_cell_id = 14;\n",
       "                var nbb_unformatted_code = \"def load_embedding_model():\\n    \\\"\\\"\\\" Load GloVe Vectors\\n        Return:\\n            wv_from_bin: All 400000 embeddings, each lengh 200\\n    \\\"\\\"\\\"\\n    import gensim.downloader as api\\n\\n    wv_from_bin = api.load(\\\"glove-wiki-gigaword-200\\\")\\n    print(\\\"Loaded vocab size %i\\\" % len(wv_from_bin.vocab.keys()))\\n    return wv_from_bin\";\n",
       "                var nbb_formatted_code = \"def load_embedding_model():\\n    \\\"\\\"\\\" Load GloVe Vectors\\n        Return:\\n            wv_from_bin: All 400000 embeddings, each lengh 200\\n    \\\"\\\"\\\"\\n    import gensim.downloader as api\\n\\n    wv_from_bin = api.load(\\\"glove-wiki-gigaword-200\\\")\\n    print(\\\"Loaded vocab size %i\\\" % len(wv_from_bin.vocab.keys()))\\n    return wv_from_bin\";\n",
       "                var nbb_cells = Jupyter.notebook.get_cells();\n",
       "                for (var i = 0; i < nbb_cells.length; ++i) {\n",
       "                    if (nbb_cells[i].input_prompt_number == nbb_cell_id) {\n",
       "                        if (nbb_cells[i].get_text() == nbb_unformatted_code) {\n",
       "                             nbb_cells[i].set_text(nbb_formatted_code);\n",
       "                        }\n",
       "                        break;\n",
       "                    }\n",
       "                }\n",
       "            }, 500);\n",
       "            "
      ],
      "text/plain": [
       "<IPython.core.display.Javascript object>"
      ]
     },
     "metadata": {},
     "output_type": "display_data"
    }
   ],
   "source": [
    "def load_embedding_model():\n",
    "    \"\"\" Load GloVe Vectors\n",
    "        Return:\n",
    "            wv_from_bin: All 400000 embeddings, each lengh 200\n",
    "    \"\"\"\n",
    "    import gensim.downloader as api\n",
    "\n",
    "    wv_from_bin = api.load(\"glove-wiki-gigaword-200\")\n",
    "    print(\"Loaded vocab size %i\" % len(wv_from_bin.vocab.keys()))\n",
    "    return wv_from_bin"
   ]
  },
  {
   "cell_type": "code",
   "execution_count": 15,
   "metadata": {},
   "outputs": [
    {
     "name": "stdout",
     "output_type": "stream",
     "text": [
      "Loaded vocab size 400000\n"
     ]
    },
    {
     "data": {
      "application/javascript": [
       "\n",
       "            setTimeout(function() {\n",
       "                var nbb_cell_id = 15;\n",
       "                var nbb_unformatted_code = \"# -----------------------------------\\n# Run Cell to Load Word Vectors\\n# Note: This will take a couple minutes\\n# -----------------------------------\\nwv_from_bin = load_embedding_model()\";\n",
       "                var nbb_formatted_code = \"# -----------------------------------\\n# Run Cell to Load Word Vectors\\n# Note: This will take a couple minutes\\n# -----------------------------------\\nwv_from_bin = load_embedding_model()\";\n",
       "                var nbb_cells = Jupyter.notebook.get_cells();\n",
       "                for (var i = 0; i < nbb_cells.length; ++i) {\n",
       "                    if (nbb_cells[i].input_prompt_number == nbb_cell_id) {\n",
       "                        if (nbb_cells[i].get_text() == nbb_unformatted_code) {\n",
       "                             nbb_cells[i].set_text(nbb_formatted_code);\n",
       "                        }\n",
       "                        break;\n",
       "                    }\n",
       "                }\n",
       "            }, 500);\n",
       "            "
      ],
      "text/plain": [
       "<IPython.core.display.Javascript object>"
      ]
     },
     "metadata": {},
     "output_type": "display_data"
    }
   ],
   "source": [
    "# -----------------------------------\n",
    "# Run Cell to Load Word Vectors\n",
    "# Note: This will take a couple minutes\n",
    "# -----------------------------------\n",
    "wv_from_bin = load_embedding_model()"
   ]
  },
  {
   "cell_type": "markdown",
   "metadata": {},
   "source": [
    "#### Note: If you are receiving a \"reset by peer\" error, rerun the cell to restart the download. "
   ]
  },
  {
   "cell_type": "markdown",
   "metadata": {},
   "source": [
    "### Reducing dimensionality of Word Embeddings\n",
    "Let's directly compare the GloVe embeddings to those of the co-occurrence matrix. In order to avoid running out of memory, we will work with a sample of 10000 GloVe vectors instead.\n",
    "Run the following cells to:\n",
    "\n",
    "1. Put 10000 Glove vectors into a matrix M\n",
    "2. Run `reduce_to_k_dim` (your Truncated SVD function) to reduce the vectors from 200-dimensional to 2-dimensional."
   ]
  },
  {
   "cell_type": "code",
   "execution_count": 16,
   "metadata": {},
   "outputs": [
    {
     "data": {
      "application/javascript": [
       "\n",
       "            setTimeout(function() {\n",
       "                var nbb_cell_id = 16;\n",
       "                var nbb_unformatted_code = \"def get_matrix_of_vectors(\\n    wv_from_bin,\\n    required_words=[\\n        \\\"barrels\\\",\\n        \\\"bpd\\\",\\n        \\\"ecuador\\\",\\n        \\\"energy\\\",\\n        \\\"industry\\\",\\n        \\\"kuwait\\\",\\n        \\\"oil\\\",\\n        \\\"output\\\",\\n        \\\"petroleum\\\",\\n        \\\"iraq\\\",\\n        # added by adam\\n        \\\"king\\\",\\n        \\\"queen\\\",\\n        \\\"woman\\\",\\n        \\\"man\\\",\\n        \\\"princess\\\",\\n        \\\"crown\\\",\\n        \\\"throne\\\",\\n    ],\\n):\\n    \\\"\\\"\\\" Put the GloVe vectors into a matrix M.\\n        Param:\\n            wv_from_bin: KeyedVectors object; the 400000 GloVe vectors loaded from file\\n        Return:\\n            M: numpy matrix shape (num words, 200) containing the vectors\\n            word2ind: dictionary mapping each word to its row number in M\\n    \\\"\\\"\\\"\\n    import random\\n\\n    words = list(wv_from_bin.vocab.keys())\\n    print(\\\"Shuffling words ...\\\")\\n    random.seed(224)\\n    random.shuffle(words)\\n    words = words[:10000]\\n    print(\\\"Putting %i words into word2ind and matrix M...\\\" % len(words))\\n    word2ind = {}\\n    M = []\\n    curInd = 0\\n    for w in words:\\n        try:\\n            M.append(wv_from_bin.word_vec(w))\\n            word2ind[w] = curInd\\n            curInd += 1\\n        except KeyError:\\n            continue\\n    for w in required_words:\\n        if w in words:\\n            continue\\n        try:\\n            M.append(wv_from_bin.word_vec(w))\\n            word2ind[w] = curInd\\n            curInd += 1\\n        except KeyError:\\n            continue\\n    M = np.stack(M)\\n    print(\\\"Done.\\\")\\n    return M, word2ind\";\n",
       "                var nbb_formatted_code = \"def get_matrix_of_vectors(\\n    wv_from_bin,\\n    required_words=[\\n        \\\"barrels\\\",\\n        \\\"bpd\\\",\\n        \\\"ecuador\\\",\\n        \\\"energy\\\",\\n        \\\"industry\\\",\\n        \\\"kuwait\\\",\\n        \\\"oil\\\",\\n        \\\"output\\\",\\n        \\\"petroleum\\\",\\n        \\\"iraq\\\",\\n        # added by adam\\n        \\\"king\\\",\\n        \\\"queen\\\",\\n        \\\"woman\\\",\\n        \\\"man\\\",\\n        \\\"princess\\\",\\n        \\\"crown\\\",\\n        \\\"throne\\\",\\n    ],\\n):\\n    \\\"\\\"\\\" Put the GloVe vectors into a matrix M.\\n        Param:\\n            wv_from_bin: KeyedVectors object; the 400000 GloVe vectors loaded from file\\n        Return:\\n            M: numpy matrix shape (num words, 200) containing the vectors\\n            word2ind: dictionary mapping each word to its row number in M\\n    \\\"\\\"\\\"\\n    import random\\n\\n    words = list(wv_from_bin.vocab.keys())\\n    print(\\\"Shuffling words ...\\\")\\n    random.seed(224)\\n    random.shuffle(words)\\n    words = words[:10000]\\n    print(\\\"Putting %i words into word2ind and matrix M...\\\" % len(words))\\n    word2ind = {}\\n    M = []\\n    curInd = 0\\n    for w in words:\\n        try:\\n            M.append(wv_from_bin.word_vec(w))\\n            word2ind[w] = curInd\\n            curInd += 1\\n        except KeyError:\\n            continue\\n    for w in required_words:\\n        if w in words:\\n            continue\\n        try:\\n            M.append(wv_from_bin.word_vec(w))\\n            word2ind[w] = curInd\\n            curInd += 1\\n        except KeyError:\\n            continue\\n    M = np.stack(M)\\n    print(\\\"Done.\\\")\\n    return M, word2ind\";\n",
       "                var nbb_cells = Jupyter.notebook.get_cells();\n",
       "                for (var i = 0; i < nbb_cells.length; ++i) {\n",
       "                    if (nbb_cells[i].input_prompt_number == nbb_cell_id) {\n",
       "                        if (nbb_cells[i].get_text() == nbb_unformatted_code) {\n",
       "                             nbb_cells[i].set_text(nbb_formatted_code);\n",
       "                        }\n",
       "                        break;\n",
       "                    }\n",
       "                }\n",
       "            }, 500);\n",
       "            "
      ],
      "text/plain": [
       "<IPython.core.display.Javascript object>"
      ]
     },
     "metadata": {},
     "output_type": "display_data"
    }
   ],
   "source": [
    "def get_matrix_of_vectors(\n",
    "    wv_from_bin,\n",
    "    required_words=[\n",
    "        \"barrels\",\n",
    "        \"bpd\",\n",
    "        \"ecuador\",\n",
    "        \"energy\",\n",
    "        \"industry\",\n",
    "        \"kuwait\",\n",
    "        \"oil\",\n",
    "        \"output\",\n",
    "        \"petroleum\",\n",
    "        \"iraq\",\n",
    "        # added by adam\n",
    "        \"king\",\n",
    "        \"queen\",\n",
    "        \"woman\",\n",
    "        \"man\",\n",
    "        \"princess\",\n",
    "        \"crown\",\n",
    "        \"throne\",\n",
    "    ],\n",
    "):\n",
    "    \"\"\" Put the GloVe vectors into a matrix M.\n",
    "        Param:\n",
    "            wv_from_bin: KeyedVectors object; the 400000 GloVe vectors loaded from file\n",
    "        Return:\n",
    "            M: numpy matrix shape (num words, 200) containing the vectors\n",
    "            word2ind: dictionary mapping each word to its row number in M\n",
    "    \"\"\"\n",
    "    import random\n",
    "\n",
    "    words = list(wv_from_bin.vocab.keys())\n",
    "    print(\"Shuffling words ...\")\n",
    "    random.seed(224)\n",
    "    random.shuffle(words)\n",
    "    words = words[:10000]\n",
    "    print(\"Putting %i words into word2ind and matrix M...\" % len(words))\n",
    "    word2ind = {}\n",
    "    M = []\n",
    "    curInd = 0\n",
    "    for w in words:\n",
    "        try:\n",
    "            M.append(wv_from_bin.word_vec(w))\n",
    "            word2ind[w] = curInd\n",
    "            curInd += 1\n",
    "        except KeyError:\n",
    "            continue\n",
    "    for w in required_words:\n",
    "        if w in words:\n",
    "            continue\n",
    "        try:\n",
    "            M.append(wv_from_bin.word_vec(w))\n",
    "            word2ind[w] = curInd\n",
    "            curInd += 1\n",
    "        except KeyError:\n",
    "            continue\n",
    "    M = np.stack(M)\n",
    "    print(\"Done.\")\n",
    "    return M, word2ind"
   ]
  },
  {
   "cell_type": "code",
   "execution_count": 17,
   "metadata": {},
   "outputs": [
    {
     "name": "stdout",
     "output_type": "stream",
     "text": [
      "Shuffling words ...\n",
      "Putting 10000 words into word2ind and matrix M...\n",
      "Done.\n",
      "Running Truncated SVD over 10017 words...\n",
      "Done.\n"
     ]
    },
    {
     "data": {
      "application/javascript": [
       "\n",
       "            setTimeout(function() {\n",
       "                var nbb_cell_id = 17;\n",
       "                var nbb_unformatted_code = \"# -----------------------------------------------------------------\\n# Run Cell to Reduce 200-Dimensional Word Embeddings to k Dimensions\\n# Note: This should be quick to run\\n# -----------------------------------------------------------------\\nM, word2ind = get_matrix_of_vectors(wv_from_bin)\\nM_reduced = reduce_to_k_dim(M, k=2)\\n\\n# Rescale (normalize) the rows to make them each of unit-length\\nM_lengths = np.linalg.norm(M_reduced, axis=1)\\nM_reduced_normalized = M_reduced / M_lengths[:, np.newaxis]  # broadcasting\";\n",
       "                var nbb_formatted_code = \"# -----------------------------------------------------------------\\n# Run Cell to Reduce 200-Dimensional Word Embeddings to k Dimensions\\n# Note: This should be quick to run\\n# -----------------------------------------------------------------\\nM, word2ind = get_matrix_of_vectors(wv_from_bin)\\nM_reduced = reduce_to_k_dim(M, k=2)\\n\\n# Rescale (normalize) the rows to make them each of unit-length\\nM_lengths = np.linalg.norm(M_reduced, axis=1)\\nM_reduced_normalized = M_reduced / M_lengths[:, np.newaxis]  # broadcasting\";\n",
       "                var nbb_cells = Jupyter.notebook.get_cells();\n",
       "                for (var i = 0; i < nbb_cells.length; ++i) {\n",
       "                    if (nbb_cells[i].input_prompt_number == nbb_cell_id) {\n",
       "                        if (nbb_cells[i].get_text() == nbb_unformatted_code) {\n",
       "                             nbb_cells[i].set_text(nbb_formatted_code);\n",
       "                        }\n",
       "                        break;\n",
       "                    }\n",
       "                }\n",
       "            }, 500);\n",
       "            "
      ],
      "text/plain": [
       "<IPython.core.display.Javascript object>"
      ]
     },
     "metadata": {},
     "output_type": "display_data"
    }
   ],
   "source": [
    "# -----------------------------------------------------------------\n",
    "# Run Cell to Reduce 200-Dimensional Word Embeddings to k Dimensions\n",
    "# Note: This should be quick to run\n",
    "# -----------------------------------------------------------------\n",
    "M, word2ind = get_matrix_of_vectors(wv_from_bin)\n",
    "M_reduced = reduce_to_k_dim(M, k=2)\n",
    "\n",
    "# Rescale (normalize) the rows to make them each of unit-length\n",
    "M_lengths = np.linalg.norm(M_reduced, axis=1)\n",
    "M_reduced_normalized = M_reduced / M_lengths[:, np.newaxis]  # broadcasting"
   ]
  },
  {
   "cell_type": "markdown",
   "metadata": {},
   "source": [
    "**Note: If you are receiving out of memory issues on your local machine, try closing other applications to free more memory on your device. You may want to try restarting your machine so that you can free up extra memory. Then immediately run the jupyter notebook and see if you can load the word vectors properly. If you still have problems with loading the embeddings onto your local machine after this, please go to office hours or contact course staff.**"
   ]
  },
  {
   "cell_type": "markdown",
   "metadata": {},
   "source": [
    "### Question 2.1: GloVe Plot Analysis [written] (3 points)\n",
    "\n",
    "Run the cell below to plot the 2D GloVe embeddings for `['barrels', 'bpd', 'ecuador', 'energy', 'industry', 'kuwait', 'oil', 'output', 'petroleum', 'iraq']`.\n",
    "\n",
    "What clusters together in 2-dimensional embedding space? What doesn't cluster together that you think should have? How is the plot different from the one generated earlier from the co-occurrence matrix? What is a possible cause for the difference?"
   ]
  },
  {
   "cell_type": "code",
   "execution_count": 18,
   "metadata": {
    "scrolled": true
   },
   "outputs": [
    {
     "data": {
      "image/png": "[encoded data removed]",
      "text/plain": [
       "<Figure size 720x360 with 1 Axes>"
      ]
     },
     "metadata": {
      "needs_background": "light"
     },
     "output_type": "display_data"
    },
    {
     "data": {
      "application/javascript": [
       "\n",
       "            setTimeout(function() {\n",
       "                var nbb_cell_id = 18;\n",
       "                var nbb_unformatted_code = \"words = [\\n    \\\"barrels\\\",\\n    \\\"bpd\\\",\\n    \\\"ecuador\\\",\\n    \\\"energy\\\",\\n    \\\"industry\\\",\\n    \\\"kuwait\\\",\\n    \\\"oil\\\",\\n    \\\"output\\\",\\n    \\\"petroleum\\\",\\n    \\\"iraq\\\",\\n]\\nplt.figure(figsize=(10, 5))\\nplot_embeddings(M_reduced_normalized, word2ind, words)\";\n",
       "                var nbb_formatted_code = \"words = [\\n    \\\"barrels\\\",\\n    \\\"bpd\\\",\\n    \\\"ecuador\\\",\\n    \\\"energy\\\",\\n    \\\"industry\\\",\\n    \\\"kuwait\\\",\\n    \\\"oil\\\",\\n    \\\"output\\\",\\n    \\\"petroleum\\\",\\n    \\\"iraq\\\",\\n]\\nplt.figure(figsize=(10, 5))\\nplot_embeddings(M_reduced_normalized, word2ind, words)\";\n",
       "                var nbb_cells = Jupyter.notebook.get_cells();\n",
       "                for (var i = 0; i < nbb_cells.length; ++i) {\n",
       "                    if (nbb_cells[i].input_prompt_number == nbb_cell_id) {\n",
       "                        if (nbb_cells[i].get_text() == nbb_unformatted_code) {\n",
       "                             nbb_cells[i].set_text(nbb_formatted_code);\n",
       "                        }\n",
       "                        break;\n",
       "                    }\n",
       "                }\n",
       "            }, 500);\n",
       "            "
      ],
      "text/plain": [
       "<IPython.core.display.Javascript object>"
      ]
     },
     "metadata": {},
     "output_type": "display_data"
    }
   ],
   "source": [
    "words = [\n",
    "    \"barrels\",\n",
    "    \"bpd\",\n",
    "    \"ecuador\",\n",
    "    \"energy\",\n",
    "    \"industry\",\n",
    "    \"kuwait\",\n",
    "    \"oil\",\n",
    "    \"output\",\n",
    "    \"petroleum\",\n",
    "    \"iraq\",\n",
    "]\n",
    "plt.figure(figsize=(10, 5))\n",
    "plot_embeddings(M_reduced_normalized, word2ind, words)"
   ]
  },
  {
   "cell_type": "markdown",
   "metadata": {},
   "source": [
    "#### <font color=\"red\">Write your answer here.</font>\n",
    "\n",
    "* The countries are no longer as tightly knit.\n",
    "* energy and industry now appear more similiar"
   ]
  },
  {
   "cell_type": "markdown",
   "metadata": {},
   "source": [
    "### Cosine Similarity\n",
    "Now that we have word vectors, we need a way to quantify the similarity between individual words, according to these vectors. One such metric is cosine-similarity. We will be using this to find words that are \"close\" and \"far\" from one another.\n",
    "\n",
    "We can think of n-dimensional vectors as points in n-dimensional space. If we take this perspective [L1](http://mathworld.wolfram.com/L1-Norm.html) and [L2](http://mathworld.wolfram.com/L2-Norm.html) Distances help quantify the amount of space \"we must travel\" to get between these two points. Another approach is to examine the angle between two vectors. From trigonometry we know that:\n",
    "\n",
    "<img src=\"./imgs/inner_product.png\" width=20% style=\"float: center;\"></img>\n",
    "\n",
    "Instead of computing the actual angle, we can leave the similarity in terms of $similarity = cos(\\Theta)$. Formally the [Cosine Similarity](https://en.wikipedia.org/wiki/Cosine_similarity) $s$ between two vectors $p$ and $q$ is defined as:\n",
    "\n",
    "$$s = \\frac{p \\cdot q}{||p|| ||q||}, \\textrm{ where } s \\in [-1, 1] $$ "
   ]
  },
  {
   "cell_type": "markdown",
   "metadata": {},
   "source": [
    "### Question 2.2: Words with Multiple Meanings (1.5 points) [code + written] \n",
    "Polysemes and homonyms are words that have more than one meaning (see this [wiki page](https://en.wikipedia.org/wiki/Polysemy) to learn more about the difference between polysemes and homonyms ). Find a word with *at least two different meanings* such that the top-10 most similar words (according to cosine similarity) contain related words from *both* meanings. For example, \"leaves\" has both \"go_away\" and \"a_structure_of_a_plant\" meaning in the top 10, and \"scoop\" has both \"handed_waffle_cone\" and \"lowdown\". You will probably need to try several polysemous or homonymic words before you find one. \n",
    "\n",
    "Please state the word you discover and the multiple meanings that occur in the top 10. Why do you think many of the polysemous or homonymic words you tried didn't work (i.e. the top-10 most similar words only contain **one** of the meanings of the words)?\n",
    "\n",
    "**Note**: You should use the `wv_from_bin.most_similar(word)` function to get the top 10 similar words. This function ranks all other words in the vocabulary with respect to their cosine similarity to the given word. For further assistance, please check the __[GenSim documentation](https://radimrehurek.com/gensim/models/keyedvectors.html#gensim.models.keyedvectors.FastTextKeyedVectors.most_similar)__."
   ]
  },
  {
   "cell_type": "code",
   "execution_count": 19,
   "metadata": {},
   "outputs": [
    {
     "data": {
      "text/plain": [
       "[('combine', 0.5569682717323303),\n",
       " ('sized', 0.518717885017395),\n",
       " ('large', 0.5093281269073486),\n",
       " ('add', 0.5013476610183716),\n",
       " ('low', 0.4956716001033783),\n",
       " ('saucepan', 0.4946528375148773),\n",
       " ('onion', 0.492389976978302),\n",
       " ('mixture', 0.477444052696228),\n",
       " ('cook', 0.47605445981025696),\n",
       " ('skillet', 0.4746273458003998)]"
      ]
     },
     "execution_count": 19,
     "metadata": {},
     "output_type": "execute_result"
    },
    {
     "data": {
      "application/javascript": [
       "\n",
       "            setTimeout(function() {\n",
       "                var nbb_cell_id = 19;\n",
       "                var nbb_unformatted_code = \"# Example that doesn't really work\\nwv_from_bin.most_similar(\\\"medium\\\")\";\n",
       "                var nbb_formatted_code = \"# Example that doesn't really work\\nwv_from_bin.most_similar(\\\"medium\\\")\";\n",
       "                var nbb_cells = Jupyter.notebook.get_cells();\n",
       "                for (var i = 0; i < nbb_cells.length; ++i) {\n",
       "                    if (nbb_cells[i].input_prompt_number == nbb_cell_id) {\n",
       "                        if (nbb_cells[i].get_text() == nbb_unformatted_code) {\n",
       "                             nbb_cells[i].set_text(nbb_formatted_code);\n",
       "                        }\n",
       "                        break;\n",
       "                    }\n",
       "                }\n",
       "            }, 500);\n",
       "            "
      ],
      "text/plain": [
       "<IPython.core.display.Javascript object>"
      ]
     },
     "metadata": {},
     "output_type": "display_data"
    }
   ],
   "source": [
    "# Example that doesn't really work\n",
    "wv_from_bin.most_similar(\"medium\")"
   ]
  },
  {
   "cell_type": "code",
   "execution_count": 20,
   "metadata": {},
   "outputs": [
    {
     "data": {
      "text/plain": [
       "[('bugs', 0.7206016778945923),\n",
       " ('y2k', 0.596354603767395),\n",
       " ('bitten', 0.5001909732818604),\n",
       " ('bites', 0.4957484006881714),\n",
       " ('glitch', 0.48826864361763),\n",
       " ('stink', 0.48753079771995544),\n",
       " ('viruses', 0.468339204788208),\n",
       " ('insect', 0.46364516019821167),\n",
       " ('zapper', 0.4548809826374054),\n",
       " ('plague', 0.4547824263572693)]"
      ]
     },
     "execution_count": 20,
     "metadata": {},
     "output_type": "execute_result"
    },
    {
     "data": {
      "application/javascript": [
       "\n",
       "            setTimeout(function() {\n",
       "                var nbb_cell_id = 20;\n",
       "                var nbb_unformatted_code = \"# Example that works\\nwv_from_bin.most_similar(\\\"bug\\\")\";\n",
       "                var nbb_formatted_code = \"# Example that works\\nwv_from_bin.most_similar(\\\"bug\\\")\";\n",
       "                var nbb_cells = Jupyter.notebook.get_cells();\n",
       "                for (var i = 0; i < nbb_cells.length; ++i) {\n",
       "                    if (nbb_cells[i].input_prompt_number == nbb_cell_id) {\n",
       "                        if (nbb_cells[i].get_text() == nbb_unformatted_code) {\n",
       "                             nbb_cells[i].set_text(nbb_formatted_code);\n",
       "                        }\n",
       "                        break;\n",
       "                    }\n",
       "                }\n",
       "            }, 500);\n",
       "            "
      ],
      "text/plain": [
       "<IPython.core.display.Javascript object>"
      ]
     },
     "metadata": {},
     "output_type": "display_data"
    }
   ],
   "source": [
    "# Example that works\n",
    "wv_from_bin.most_similar(\"bug\")"
   ]
  },
  {
   "cell_type": "markdown",
   "metadata": {},
   "source": [
    "#### <font color=\"red\">Write your answer here.</font>\n",
    "\n",
    "* Vectors learned on wikipedia data\n",
    "    * medium as a size will be much more common than medium as a psychic\n",
    "    * bug as an insect and as a coding mistake are both very commonly in the input corpus"
   ]
  },
  {
   "cell_type": "markdown",
   "metadata": {},
   "source": [
    "### Question 2.3: Synonyms & Antonyms (2 points) [code + written] \n",
    "\n",
    "When considering Cosine Similarity, it's often more convenient to think of Cosine Distance, which is simply 1 - Cosine Similarity.\n",
    "\n",
    "Find three words $(w_1,w_2,w_3)$ where $w_1$ and $w_2$ are synonyms and $w_1$ and $w_3$ are antonyms, but Cosine Distance $(w_1,w_3) <$ Cosine Distance $(w_1,w_2)$. \n",
    "\n",
    "As an example, $w_1$=\"happy\" is closer to $w_3$=\"sad\" than to $w_2$=\"cheerful\". Please find a different example that satisfies the above. Once you have found your example, please give a possible explanation for why this counter-intuitive result may have happened.\n",
    "\n",
    "You should use the the `wv_from_bin.distance(w1, w2)` function here in order to compute the cosine distance between two words. Please see the __[GenSim documentation](https://radimrehurek.com/gensim/models/keyedvectors.html#gensim.models.keyedvectors.FastTextKeyedVectors.distance)__ for further assistance."
   ]
  },
  {
   "cell_type": "code",
   "execution_count": 21,
   "metadata": {},
   "outputs": [
    {
     "data": {
      "text/plain": [
       "0.47008150815963745"
      ]
     },
     "execution_count": 21,
     "metadata": {},
     "output_type": "execute_result"
    },
    {
     "data": {
      "application/javascript": [
       "\n",
       "            setTimeout(function() {\n",
       "                var nbb_cell_id = 21;\n",
       "                var nbb_unformatted_code = \"wv_from_bin.distance(\\\"run\\\", \\\"walk\\\")\";\n",
       "                var nbb_formatted_code = \"wv_from_bin.distance(\\\"run\\\", \\\"walk\\\")\";\n",
       "                var nbb_cells = Jupyter.notebook.get_cells();\n",
       "                for (var i = 0; i < nbb_cells.length; ++i) {\n",
       "                    if (nbb_cells[i].input_prompt_number == nbb_cell_id) {\n",
       "                        if (nbb_cells[i].get_text() == nbb_unformatted_code) {\n",
       "                             nbb_cells[i].set_text(nbb_formatted_code);\n",
       "                        }\n",
       "                        break;\n",
       "                    }\n",
       "                }\n",
       "            }, 500);\n",
       "            "
      ],
      "text/plain": [
       "<IPython.core.display.Javascript object>"
      ]
     },
     "metadata": {},
     "output_type": "display_data"
    }
   ],
   "source": [
    "wv_from_bin.distance(\"run\", \"walk\")"
   ]
  },
  {
   "cell_type": "code",
   "execution_count": 22,
   "metadata": {},
   "outputs": [
    {
     "data": {
      "text/plain": [
       "0.7086264491081238"
      ]
     },
     "execution_count": 22,
     "metadata": {},
     "output_type": "execute_result"
    },
    {
     "data": {
      "application/javascript": [
       "\n",
       "            setTimeout(function() {\n",
       "                var nbb_cell_id = 22;\n",
       "                var nbb_unformatted_code = \"wv_from_bin.distance(\\\"run\\\", \\\"sprint\\\")\";\n",
       "                var nbb_formatted_code = \"wv_from_bin.distance(\\\"run\\\", \\\"sprint\\\")\";\n",
       "                var nbb_cells = Jupyter.notebook.get_cells();\n",
       "                for (var i = 0; i < nbb_cells.length; ++i) {\n",
       "                    if (nbb_cells[i].input_prompt_number == nbb_cell_id) {\n",
       "                        if (nbb_cells[i].get_text() == nbb_unformatted_code) {\n",
       "                             nbb_cells[i].set_text(nbb_formatted_code);\n",
       "                        }\n",
       "                        break;\n",
       "                    }\n",
       "                }\n",
       "            }, 500);\n",
       "            "
      ],
      "text/plain": [
       "<IPython.core.display.Javascript object>"
      ]
     },
     "metadata": {},
     "output_type": "display_data"
    }
   ],
   "source": [
    "wv_from_bin.distance(\"run\", \"sprint\")"
   ]
  },
  {
   "cell_type": "markdown",
   "metadata": {},
   "source": [
    "#### <font color=\"red\">Write your answer here.</font>\n",
    "\n",
    "* Very common to use run and walk, they're more 'general' words (like sad and happy in example)\n",
    "* Sprint is a more rare occurance and typically used in more specific contexts"
   ]
  },
  {
   "cell_type": "markdown",
   "metadata": {},
   "source": [
    "### Question 2.4: Analogies with Word Vectors [written] (1.5 points)\n",
    "Word vectors have been shown to *sometimes* exhibit the ability to solve analogies. \n",
    "\n",
    "As an example, for the analogy \"man : king :: woman : x\" (read: man is to king as woman is to x), what is x?\n",
    "\n",
    "In the cell below, we show you how to use word vectors to find x using the `most_similar` function from the __[GenSim documentation](https://radimrehurek.com/gensim/models/keyedvectors.html#gensim.models.keyedvectors.KeyedVectors.most_similar)__. The function finds words that are most similar to the words in the `positive` list and most dissimilar from the words in the `negative` list (while omitting the input words, which are often the most similar; see [this paper](https://www.aclweb.org/anthology/N18-2039.pdf)). The answer to the analogy will have the highest cosine similarity (largest returned numerical value)."
   ]
  },
  {
   "cell_type": "code",
   "execution_count": 23,
   "metadata": {},
   "outputs": [
    {
     "name": "stdout",
     "output_type": "stream",
     "text": [
      "[('queen', 0.6978678703308105),\n",
      " ('princess', 0.6081745028495789),\n",
      " ('monarch', 0.5889754891395569),\n",
      " ('throne', 0.5775108933448792),\n",
      " ('prince', 0.5750998258590698),\n",
      " ('elizabeth', 0.5463595986366272),\n",
      " ('daughter', 0.5399125814437866),\n",
      " ('kingdom', 0.5318052172660828),\n",
      " ('mother', 0.5168544054031372),\n",
      " ('crown', 0.5164473056793213)]\n"
     ]
    },
    {
     "data": {
      "application/javascript": [
       "\n",
       "            setTimeout(function() {\n",
       "                var nbb_cell_id = 23;\n",
       "                var nbb_unformatted_code = \"# Run this cell to answer the analogy -- man : king :: woman : x\\npprint.pprint(wv_from_bin.most_similar(positive=[\\\"woman\\\", \\\"king\\\"], negative=[\\\"man\\\"]))\";\n",
       "                var nbb_formatted_code = \"# Run this cell to answer the analogy -- man : king :: woman : x\\npprint.pprint(wv_from_bin.most_similar(positive=[\\\"woman\\\", \\\"king\\\"], negative=[\\\"man\\\"]))\";\n",
       "                var nbb_cells = Jupyter.notebook.get_cells();\n",
       "                for (var i = 0; i < nbb_cells.length; ++i) {\n",
       "                    if (nbb_cells[i].input_prompt_number == nbb_cell_id) {\n",
       "                        if (nbb_cells[i].get_text() == nbb_unformatted_code) {\n",
       "                             nbb_cells[i].set_text(nbb_formatted_code);\n",
       "                        }\n",
       "                        break;\n",
       "                    }\n",
       "                }\n",
       "            }, 500);\n",
       "            "
      ],
      "text/plain": [
       "<IPython.core.display.Javascript object>"
      ]
     },
     "metadata": {},
     "output_type": "display_data"
    }
   ],
   "source": [
    "# Run this cell to answer the analogy -- man : king :: woman : x\n",
    "pprint.pprint(wv_from_bin.most_similar(positive=[\"woman\", \"king\"], negative=[\"man\"]))"
   ]
  },
  {
   "cell_type": "markdown",
   "metadata": {},
   "source": [
    "Let $m$, $k$, $w$, and $x$ denote the word vectors for `man`, `king`, `woman`, and the answer, respectively. Using **only** vectors $m$, $k$, $w$, and the vector arithmetic operators $+$ and $-$ in your answer, what is the expression in which we are maximizing cosine similarity with $x$?\n",
    "\n",
    "Hint: Recall that word vectors are simply multi-dimensional vectors that represent a word. It might help to draw out a 2D example using arbitrary locations of each vector. Where would `man` and `woman` lie in the coordinate plane relative to `king` and the answer?"
   ]
  },
  {
   "cell_type": "markdown",
   "metadata": {},
   "source": [
    "#### <font color=\"red\">Write your answer here.</font>"
   ]
  },
  {
   "cell_type": "code",
   "execution_count": 24,
   "metadata": {
    "hideOutput": true
   },
   "outputs": [
    {
     "data": {
      "image/png": "[encoded data removed]",
      "text/plain": [
       "<Figure size 432x288 with 1 Axes>"
      ]
     },
     "metadata": {
      "needs_background": "light"
     },
     "output_type": "display_data"
    },
    {
     "data": {
      "application/javascript": [
       "\n",
       "            setTimeout(function() {\n",
       "                var nbb_cell_id = 24;\n",
       "                var nbb_unformatted_code = \"plot_embeddings(\\n    M_reduced_normalized,\\n    word2ind,\\n    [\\\"king\\\", \\\"man\\\", \\\"woman\\\", \\\"queen\\\", \\\"throne\\\", \\\"crown\\\", \\\"princess\\\"],\\n)\";\n",
       "                var nbb_formatted_code = \"plot_embeddings(\\n    M_reduced_normalized,\\n    word2ind,\\n    [\\\"king\\\", \\\"man\\\", \\\"woman\\\", \\\"queen\\\", \\\"throne\\\", \\\"crown\\\", \\\"princess\\\"],\\n)\";\n",
       "                var nbb_cells = Jupyter.notebook.get_cells();\n",
       "                for (var i = 0; i < nbb_cells.length; ++i) {\n",
       "                    if (nbb_cells[i].input_prompt_number == nbb_cell_id) {\n",
       "                        if (nbb_cells[i].get_text() == nbb_unformatted_code) {\n",
       "                             nbb_cells[i].set_text(nbb_formatted_code);\n",
       "                        }\n",
       "                        break;\n",
       "                    }\n",
       "                }\n",
       "            }, 500);\n",
       "            "
      ],
      "text/plain": [
       "<IPython.core.display.Javascript object>"
      ]
     },
     "metadata": {},
     "output_type": "display_data"
    }
   ],
   "source": [
    "plot_embeddings(\n",
    "    M_reduced_normalized,\n",
    "    word2ind,\n",
    "    [\"king\", \"man\", \"woman\", \"queen\", \"throne\", \"crown\", \"princess\"],\n",
    ")"
   ]
  },
  {
   "cell_type": "markdown",
   "metadata": {},
   "source": [
    "### Question 2.5: Finding Analogies [code + written]  (1.5 points)\n",
    "Find an example of analogy that holds according to these vectors (i.e. the intended word is ranked top). In your solution please state the full analogy in the form x:y :: a:b. If you believe the analogy is complicated, explain why the analogy holds in one or two sentences.\n",
    "\n",
    "**Note**: You may have to try many analogies to find one that works!"
   ]
  },
  {
   "cell_type": "code",
   "execution_count": 25,
   "metadata": {},
   "outputs": [
    {
     "data": {
      "application/javascript": [
       "\n",
       "            setTimeout(function() {\n",
       "                var nbb_cell_id = 25;\n",
       "                var nbb_unformatted_code = \"# skipping\";\n",
       "                var nbb_formatted_code = \"# skipping\";\n",
       "                var nbb_cells = Jupyter.notebook.get_cells();\n",
       "                for (var i = 0; i < nbb_cells.length; ++i) {\n",
       "                    if (nbb_cells[i].input_prompt_number == nbb_cell_id) {\n",
       "                        if (nbb_cells[i].get_text() == nbb_unformatted_code) {\n",
       "                             nbb_cells[i].set_text(nbb_formatted_code);\n",
       "                        }\n",
       "                        break;\n",
       "                    }\n",
       "                }\n",
       "            }, 500);\n",
       "            "
      ],
      "text/plain": [
       "<IPython.core.display.Javascript object>"
      ]
     },
     "metadata": {},
     "output_type": "display_data"
    }
   ],
   "source": [
    "# skipping"
   ]
  },
  {
   "cell_type": "markdown",
   "metadata": {},
   "source": [
    "#### <font color=\"red\">Write your answer here.</font>"
   ]
  },
  {
   "cell_type": "markdown",
   "metadata": {},
   "source": [
    "### Question 2.6: Incorrect Analogy [code + written] (1.5 points)\n",
    "Find an example of analogy that does *not* hold according to these vectors. In your solution, state the intended analogy in the form x:y :: a:b, and state the (incorrect) value of b according to the word vectors."
   ]
  },
  {
   "cell_type": "code",
   "execution_count": 26,
   "metadata": {},
   "outputs": [
    {
     "data": {
      "application/javascript": [
       "\n",
       "            setTimeout(function() {\n",
       "                var nbb_cell_id = 26;\n",
       "                var nbb_unformatted_code = \"# skipping\";\n",
       "                var nbb_formatted_code = \"# skipping\";\n",
       "                var nbb_cells = Jupyter.notebook.get_cells();\n",
       "                for (var i = 0; i < nbb_cells.length; ++i) {\n",
       "                    if (nbb_cells[i].input_prompt_number == nbb_cell_id) {\n",
       "                        if (nbb_cells[i].get_text() == nbb_unformatted_code) {\n",
       "                             nbb_cells[i].set_text(nbb_formatted_code);\n",
       "                        }\n",
       "                        break;\n",
       "                    }\n",
       "                }\n",
       "            }, 500);\n",
       "            "
      ],
      "text/plain": [
       "<IPython.core.display.Javascript object>"
      ]
     },
     "metadata": {},
     "output_type": "display_data"
    }
   ],
   "source": [
    "# skipping"
   ]
  },
  {
   "cell_type": "markdown",
   "metadata": {},
   "source": [
    "#### <font color=\"red\">Write your answer here.</font>"
   ]
  },
  {
   "cell_type": "markdown",
   "metadata": {},
   "source": [
    "### Question 2.7: Guided Analysis of Bias in Word Vectors [written] (1 point)\n",
    "\n",
    "It's important to be cognizant of the biases (gender, race, sexual orientation etc.) implicit in our word embeddings. Bias can be dangerous because it can reinforce stereotypes through applications that employ these models.\n",
    "\n",
    "Run the cell below, to examine (a) which terms are most similar to \"woman\" and \"worker\" and most dissimilar to \"man\", and (b) which terms are most similar to \"man\" and \"worker\" and most dissimilar to \"woman\". Point out the difference between the list of female-associated words and the list of male-associated words, and explain how it is reflecting gender bias."
   ]
  },
  {
   "cell_type": "code",
   "execution_count": 27,
   "metadata": {},
   "outputs": [
    {
     "name": "stdout",
     "output_type": "stream",
     "text": [
      "[('employee', 0.6375863552093506),\n",
      " ('workers', 0.6068919897079468),\n",
      " ('nurse', 0.5837947130203247),\n",
      " ('pregnant', 0.5363885760307312),\n",
      " ('mother', 0.5321309566497803),\n",
      " ('employer', 0.5127025842666626),\n",
      " ('teacher', 0.5099577307701111),\n",
      " ('child', 0.5096741914749146),\n",
      " ('homemaker', 0.5019455552101135),\n",
      " ('nurses', 0.4970571994781494)]\n",
      "\n",
      "[('workers', 0.611325740814209),\n",
      " ('employee', 0.5983108878135681),\n",
      " ('working', 0.5615329742431641),\n",
      " ('laborer', 0.5442320108413696),\n",
      " ('unemployed', 0.5368517637252808),\n",
      " ('job', 0.5278826951980591),\n",
      " ('work', 0.5223963260650635),\n",
      " ('mechanic', 0.5088937282562256),\n",
      " ('worked', 0.5054520964622498),\n",
      " ('factory', 0.4940453767776489)]\n"
     ]
    },
    {
     "data": {
      "application/javascript": [
       "\n",
       "            setTimeout(function() {\n",
       "                var nbb_cell_id = 27;\n",
       "                var nbb_unformatted_code = \"# Run this cell\\n# Here `positive` indicates the list of words to be similar to and `negative` indicates the list of words to be\\n# most dissimilar from.\\npprint.pprint(wv_from_bin.most_similar(positive=[\\\"woman\\\", \\\"worker\\\"], negative=[\\\"man\\\"]))\\nprint()\\npprint.pprint(wv_from_bin.most_similar(positive=[\\\"man\\\", \\\"worker\\\"], negative=[\\\"woman\\\"]))\";\n",
       "                var nbb_formatted_code = \"# Run this cell\\n# Here `positive` indicates the list of words to be similar to and `negative` indicates the list of words to be\\n# most dissimilar from.\\npprint.pprint(wv_from_bin.most_similar(positive=[\\\"woman\\\", \\\"worker\\\"], negative=[\\\"man\\\"]))\\nprint()\\npprint.pprint(wv_from_bin.most_similar(positive=[\\\"man\\\", \\\"worker\\\"], negative=[\\\"woman\\\"]))\";\n",
       "                var nbb_cells = Jupyter.notebook.get_cells();\n",
       "                for (var i = 0; i < nbb_cells.length; ++i) {\n",
       "                    if (nbb_cells[i].input_prompt_number == nbb_cell_id) {\n",
       "                        if (nbb_cells[i].get_text() == nbb_unformatted_code) {\n",
       "                             nbb_cells[i].set_text(nbb_formatted_code);\n",
       "                        }\n",
       "                        break;\n",
       "                    }\n",
       "                }\n",
       "            }, 500);\n",
       "            "
      ],
      "text/plain": [
       "<IPython.core.display.Javascript object>"
      ]
     },
     "metadata": {},
     "output_type": "display_data"
    }
   ],
   "source": [
    "# Run this cell\n",
    "# Here `positive` indicates the list of words to be similar to and `negative` indicates the list of words to be\n",
    "# most dissimilar from.\n",
    "pprint.pprint(wv_from_bin.most_similar(positive=[\"woman\", \"worker\"], negative=[\"man\"]))\n",
    "print()\n",
    "pprint.pprint(wv_from_bin.most_similar(positive=[\"man\", \"worker\"], negative=[\"woman\"]))"
   ]
  },
  {
   "cell_type": "code",
   "execution_count": 28,
   "metadata": {},
   "outputs": [
    {
     "data": {
      "application/javascript": [
       "\n",
       "            setTimeout(function() {\n",
       "                var nbb_cell_id = 28;\n",
       "                var nbb_unformatted_code = \"# skipping\";\n",
       "                var nbb_formatted_code = \"# skipping\";\n",
       "                var nbb_cells = Jupyter.notebook.get_cells();\n",
       "                for (var i = 0; i < nbb_cells.length; ++i) {\n",
       "                    if (nbb_cells[i].input_prompt_number == nbb_cell_id) {\n",
       "                        if (nbb_cells[i].get_text() == nbb_unformatted_code) {\n",
       "                             nbb_cells[i].set_text(nbb_formatted_code);\n",
       "                        }\n",
       "                        break;\n",
       "                    }\n",
       "                }\n",
       "            }, 500);\n",
       "            "
      ],
      "text/plain": [
       "<IPython.core.display.Javascript object>"
      ]
     },
     "metadata": {},
     "output_type": "display_data"
    }
   ],
   "source": [
    "# skipping"
   ]
  },
  {
   "cell_type": "markdown",
   "metadata": {},
   "source": [
    "#### <font color=\"red\">Write your answer here.</font>"
   ]
  },
  {
   "cell_type": "markdown",
   "metadata": {},
   "source": [
    "### Question 2.8: Independent Analysis of Bias in Word Vectors [code + written]  (1 point)\n",
    "\n",
    "Use the `most_similar` function to find another case where some bias is exhibited by the vectors. Please briefly explain the example of bias that you discover."
   ]
  },
  {
   "cell_type": "code",
   "execution_count": 29,
   "metadata": {},
   "outputs": [
    {
     "data": {
      "application/javascript": [
       "\n",
       "            setTimeout(function() {\n",
       "                var nbb_cell_id = 29;\n",
       "                var nbb_unformatted_code = \"# skipping\";\n",
       "                var nbb_formatted_code = \"# skipping\";\n",
       "                var nbb_cells = Jupyter.notebook.get_cells();\n",
       "                for (var i = 0; i < nbb_cells.length; ++i) {\n",
       "                    if (nbb_cells[i].input_prompt_number == nbb_cell_id) {\n",
       "                        if (nbb_cells[i].get_text() == nbb_unformatted_code) {\n",
       "                             nbb_cells[i].set_text(nbb_formatted_code);\n",
       "                        }\n",
       "                        break;\n",
       "                    }\n",
       "                }\n",
       "            }, 500);\n",
       "            "
      ],
      "text/plain": [
       "<IPython.core.display.Javascript object>"
      ]
     },
     "metadata": {},
     "output_type": "display_data"
    }
   ],
   "source": [
    "# skipping"
   ]
  },
  {
   "cell_type": "markdown",
   "metadata": {},
   "source": [
    "#### <font color=\"red\">Write your answer here.</font>"
   ]
  },
  {
   "cell_type": "markdown",
   "metadata": {},
   "source": [
    "### Question 2.9: Thinking About Bias [written] (2 points)\n",
    "\n",
    "Give one explanation of how bias gets into the word vectors. What is an experiment that you could do to test for or to measure this source of bias?"
   ]
  },
  {
   "cell_type": "code",
   "execution_count": 30,
   "metadata": {},
   "outputs": [
    {
     "data": {
      "application/javascript": [
       "\n",
       "            setTimeout(function() {\n",
       "                var nbb_cell_id = 30;\n",
       "                var nbb_unformatted_code = \"# skipping\";\n",
       "                var nbb_formatted_code = \"# skipping\";\n",
       "                var nbb_cells = Jupyter.notebook.get_cells();\n",
       "                for (var i = 0; i < nbb_cells.length; ++i) {\n",
       "                    if (nbb_cells[i].input_prompt_number == nbb_cell_id) {\n",
       "                        if (nbb_cells[i].get_text() == nbb_unformatted_code) {\n",
       "                             nbb_cells[i].set_text(nbb_formatted_code);\n",
       "                        }\n",
       "                        break;\n",
       "                    }\n",
       "                }\n",
       "            }, 500);\n",
       "            "
      ],
      "text/plain": [
       "<IPython.core.display.Javascript object>"
      ]
     },
     "metadata": {},
     "output_type": "display_data"
    }
   ],
   "source": [
    "# skipping"
   ]
  },
  {
   "cell_type": "markdown",
   "metadata": {},
   "source": [
    "#### <font color=\"red\">Write your answer here.</font>"
   ]
  },
  {
   "cell_type": "markdown",
   "metadata": {},
   "source": [
    "# <font color=\"blue\"> Submission Instructions</font>\n",
    "\n",
    "1. Click the Save button at the top of the Jupyter Notebook.\n",
    "2. Select Cell -> All Output -> Clear. This will clear all the outputs from all cells (but will keep the content of all cells). \n",
    "2. Select Cell -> Run All. This will run all the cells in order, and will take several minutes.\n",
    "3. Once you've rerun everything, select File -> Download as -> PDF via LaTeX (If you have trouble using \"PDF via LaTex\", you can also save the webpage as pdf. <font color='blue'> Make sure all your solutions especially the coding parts are displayed in the pdf</font>, it's okay if the provided codes get cut off because lines are not wrapped in code cells).\n",
    "4. Look at the PDF file and make sure all your solutions are there, displayed correctly. The PDF is the only thing your graders will see!\n",
    "5. Submit your PDF on Gradescope."
   ]
  }
 ],
 "metadata": {
  "anaconda-cloud": {},
  "kernelspec": {
   "display_name": "cs224n",
   "language": "python",
   "name": "cs224n"
  },
  "language_info": {
   "codemirror_mode": {
    "name": "ipython",
    "version": 3
   },
   "file_extension": ".py",
   "mimetype": "text/x-python",
   "name": "python",
   "nbconvert_exporter": "python",
   "pygments_lexer": "ipython3",
   "version": "3.7.10"
  }
 },
 "nbformat": 4,
 "nbformat_minor": 2
}
